{
 "cells": [
  {
   "cell_type": "markdown",
   "metadata": {},
   "source": [
    "## Some attempts at Temporal Convolutions\n",
    "\n",
    "Network inspired by Schirrmeister - performing temporal convolutions"
   ]
  },
  {
   "cell_type": "code",
   "execution_count": 29,
   "metadata": {
    "colab": {
     "base_uri": "https://localhost:8080/",
     "height": 51
    },
    "colab_type": "code",
    "id": "0d29OvO6HH4l",
    "outputId": "7af169b9-7d5f-4b74-a65a-4752ee68f5d3"
   },
   "outputs": [
    {
     "name": "stdout",
     "output_type": "stream",
     "text": [
      "The autoreload extension is already loaded. To reload it, use:\n",
      "  %reload_ext autoreload\n"
     ]
    }
   ],
   "source": [
    "# Imports and setup\n",
    "\n",
    "import numpy as np\n",
    "import tensorflow as tf\n",
    "from tensorflow import keras\n",
    "from keras.layers import LSTM\n",
    "from keras.layers import GRU\n",
    "import matplotlib.pyplot as plt\n",
    "\n",
    "from load_data import *\n",
    "from utilities import *\n",
    "from temporal_cnn import TEMPORAL_CNN\n",
    "\n",
    "\n",
    "%load_ext autoreload\n",
    "%autoreload 2"
   ]
  },
  {
   "cell_type": "markdown",
   "metadata": {},
   "source": [
    "### Loading Data and Train/Test/Val Splitting"
   ]
  },
  {
   "cell_type": "code",
   "execution_count": 3,
   "metadata": {
    "colab": {
     "base_uri": "https://localhost:8080/",
     "height": 119
    },
    "colab_type": "code",
    "id": "2wXTYBLsILGj",
    "outputId": "7316ac3a-a681-4122-99bf-17f56206f5c2"
   },
   "outputs": [
    {
     "name": "stdout",
     "output_type": "stream",
     "text": [
      "Training/Valid data shape: (2115, 22, 1000)\n",
      "Test data shape: (443, 22, 1000)\n",
      "Training/Valid target shape: (2115,)\n",
      "Test target shape: (443,)\n",
      "Person train/valid shape: (2115, 1)\n",
      "Person test shape: (443, 1)\n"
     ]
    }
   ],
   "source": [
    "# Loads data from the EEG dataset and removes all EOG data\n",
    "\n",
    "person_train_val, X_train_val, y_train_val, person_test, X_test, y_test = load_EEG_data()\n",
    "\n",
    "print ('Training/Valid data shape: {}'.format(X_train_val.shape))\n",
    "print ('Test data shape: {}'.format(X_test.shape))\n",
    "print ('Training/Valid target shape: {}'.format(y_train_val.shape))\n",
    "print ('Test target shape: {}'.format(y_test.shape))\n",
    "print ('Person train/valid shape: {}'.format(person_train_val.shape))\n",
    "print ('Person test shape: {}'.format(person_test.shape))"
   ]
  },
  {
   "cell_type": "code",
   "execution_count": 4,
   "metadata": {
    "colab": {
     "base_uri": "https://localhost:8080/",
     "height": 85
    },
    "colab_type": "code",
    "id": "YK2b0Rb9IQQ_",
    "outputId": "187ac29c-d6d9-4c1e-f266-38bfd8236ed0"
   },
   "outputs": [
    {
     "name": "stdout",
     "output_type": "stream",
     "text": [
      "Training data shape: (1904, 22, 1000)\n",
      "Training target shape: (1904,)\n",
      "Validation data shape: (211, 22, 1000)\n",
      "Validation target shape: (211,)\n"
     ]
    }
   ],
   "source": [
    "X_train, y_train, X_val, y_val = split_train_val(X_train_val, y_train_val, percent_validation=0.1)\n",
    "\n",
    "print ('Training data shape: {}'.format(X_train.shape))\n",
    "print ('Training target shape: {}'.format(y_train.shape))\n",
    "print ('Validation data shape: {}'.format(X_val.shape))\n",
    "print ('Validation target shape: {}'.format(y_val.shape))"
   ]
  },
  {
   "cell_type": "markdown",
   "metadata": {},
   "source": [
    "### One Hot Encoding for Output Labels"
   ]
  },
  {
   "cell_type": "code",
   "execution_count": 41,
   "metadata": {
    "colab": {
     "base_uri": "https://localhost:8080/",
     "height": 119
    },
    "colab_type": "code",
    "id": "vuNLvZVSlkc_",
    "outputId": "39e5c188-6eaa-46f8-d5cd-202b05626b35"
   },
   "outputs": [
    {
     "name": "stdout",
     "output_type": "stream",
     "text": [
      "769\n",
      "(211,)\n",
      "(443,)\n",
      "[1. 0. 0. 0.]\n",
      "(211, 4)\n",
      "(443, 4)\n"
     ]
    }
   ],
   "source": [
    "print (y_val[33])\n",
    "print (y_val.shape)\n",
    "print (y_test.shape)\n",
    "\n",
    "y_train_labels = one_hot_encode(y_train)\n",
    "y_val_labels = one_hot_encode(y_val)\n",
    "y_test_labels = one_hot_encode(y_test)\n",
    "\n",
    "print (y_val_labels[33])\n",
    "print (y_val_labels.shape)\n",
    "print (y_test_labels.shape)\n"
   ]
  },
  {
   "cell_type": "markdown",
   "metadata": {},
   "source": [
    "### Formatting for 2D convolution"
   ]
  },
  {
   "cell_type": "code",
   "execution_count": 0,
   "metadata": {
    "colab": {},
    "colab_type": "code",
    "id": "SGDn64vwIVMf"
   },
   "outputs": [],
   "source": [
    "N,E,T = X_train.shape\n",
    "X_train_tmp = X_train.reshape((N,E,T,1))\n",
    "\n",
    "N,E,T = X_val.shape\n",
    "X_val_tmp = X_val.reshape((N,E,T,1))\n",
    "\n",
    "N,E,T = X_test.shape\n",
    "X_test_tmp = X_test.reshape((N,E,T,1))"
   ]
  },
  {
   "cell_type": "markdown",
   "metadata": {},
   "source": [
    "### Temporal CNN Training and Evaluation\n",
    "\n",
    "Now we test out our network - start with batchnorm and dropout"
   ]
  },
  {
   "cell_type": "code",
   "execution_count": 36,
   "metadata": {
    "colab": {
     "base_uri": "https://localhost:8080/",
     "height": 1805
    },
    "colab_type": "code",
    "id": "7htpw-yeIY7O",
    "outputId": "adebcdbf-ed25-4f99-af7e-300e0d7b5809"
   },
   "outputs": [
    {
     "name": "stdout",
     "output_type": "stream",
     "text": [
      "Train on 1904 samples, validate on 211 samples\n",
      "Epoch 1/50\n",
      "1904/1904 [==============================] - 5s 3ms/sample - loss: 1.4395 - acc: 0.3199 - val_loss: 1.3689 - val_acc: 0.4171\n",
      "Epoch 2/50\n",
      "1904/1904 [==============================] - 5s 3ms/sample - loss: 1.2340 - acc: 0.4438 - val_loss: 1.2794 - val_acc: 0.4313\n",
      "Epoch 3/50\n",
      "1904/1904 [==============================] - 5s 3ms/sample - loss: 1.1207 - acc: 0.5021 - val_loss: 1.2185 - val_acc: 0.4739\n",
      "Epoch 4/50\n",
      "1904/1904 [==============================] - 5s 3ms/sample - loss: 1.0330 - acc: 0.5536 - val_loss: 1.1909 - val_acc: 0.5166\n",
      "Epoch 5/50\n",
      "1904/1904 [==============================] - 5s 3ms/sample - loss: 0.8942 - acc: 0.6612 - val_loss: 1.2943 - val_acc: 0.4360\n",
      "Epoch 6/50\n",
      "1904/1904 [==============================] - 5s 3ms/sample - loss: 0.8115 - acc: 0.6949 - val_loss: 1.2295 - val_acc: 0.4976\n",
      "Epoch 7/50\n",
      "1904/1904 [==============================] - 5s 3ms/sample - loss: 0.7563 - acc: 0.7033 - val_loss: 1.0434 - val_acc: 0.5213\n",
      "Epoch 8/50\n",
      "1904/1904 [==============================] - 5s 3ms/sample - loss: 0.6723 - acc: 0.7484 - val_loss: 1.1188 - val_acc: 0.5213\n",
      "Epoch 9/50\n",
      "1904/1904 [==============================] - 5s 2ms/sample - loss: 0.6107 - acc: 0.7894 - val_loss: 1.0286 - val_acc: 0.5924\n",
      "Epoch 10/50\n",
      "1904/1904 [==============================] - 5s 2ms/sample - loss: 0.5525 - acc: 0.8020 - val_loss: 1.0300 - val_acc: 0.5545\n",
      "Epoch 11/50\n",
      "1904/1904 [==============================] - 5s 3ms/sample - loss: 0.5181 - acc: 0.8235 - val_loss: 1.0231 - val_acc: 0.5545\n",
      "Epoch 12/50\n",
      "1904/1904 [==============================] - 5s 3ms/sample - loss: 0.4824 - acc: 0.8398 - val_loss: 1.0323 - val_acc: 0.5687\n",
      "Epoch 13/50\n",
      "1904/1904 [==============================] - 5s 3ms/sample - loss: 0.4510 - acc: 0.8430 - val_loss: 1.1311 - val_acc: 0.5782\n",
      "Epoch 14/50\n",
      "1904/1904 [==============================] - 5s 3ms/sample - loss: 0.4121 - acc: 0.8629 - val_loss: 1.0481 - val_acc: 0.5687\n",
      "Epoch 15/50\n",
      "1904/1904 [==============================] - 5s 2ms/sample - loss: 0.3657 - acc: 0.8897 - val_loss: 1.0346 - val_acc: 0.5829\n",
      "Epoch 16/50\n",
      "1904/1904 [==============================] - 5s 2ms/sample - loss: 0.3714 - acc: 0.8729 - val_loss: 1.0457 - val_acc: 0.6019\n",
      "Epoch 17/50\n",
      "1904/1904 [==============================] - 5s 2ms/sample - loss: 0.3390 - acc: 0.8871 - val_loss: 1.2620 - val_acc: 0.5592\n",
      "Epoch 18/50\n",
      "1904/1904 [==============================] - 5s 2ms/sample - loss: 0.3089 - acc: 0.9055 - val_loss: 1.0480 - val_acc: 0.6019\n",
      "Epoch 19/50\n",
      "1904/1904 [==============================] - 5s 2ms/sample - loss: 0.3051 - acc: 0.9055 - val_loss: 1.0593 - val_acc: 0.6114\n",
      "Epoch 20/50\n",
      "1904/1904 [==============================] - 5s 3ms/sample - loss: 0.2694 - acc: 0.9154 - val_loss: 1.0525 - val_acc: 0.6256\n",
      "Epoch 21/50\n",
      "1904/1904 [==============================] - 5s 3ms/sample - loss: 0.2208 - acc: 0.9485 - val_loss: 1.2203 - val_acc: 0.5545\n",
      "Epoch 22/50\n",
      "1904/1904 [==============================] - 5s 3ms/sample - loss: 0.2311 - acc: 0.9433 - val_loss: 1.1013 - val_acc: 0.5924\n",
      "Epoch 23/50\n",
      "1904/1904 [==============================] - 5s 3ms/sample - loss: 0.1929 - acc: 0.9569 - val_loss: 1.4708 - val_acc: 0.5498\n",
      "Epoch 24/50\n",
      "1904/1904 [==============================] - 5s 3ms/sample - loss: 0.2018 - acc: 0.9485 - val_loss: 1.0481 - val_acc: 0.6019\n",
      "Epoch 25/50\n",
      "1904/1904 [==============================] - 5s 3ms/sample - loss: 0.1886 - acc: 0.9533 - val_loss: 1.0851 - val_acc: 0.6209\n",
      "Epoch 26/50\n",
      "1904/1904 [==============================] - 5s 2ms/sample - loss: 0.1832 - acc: 0.9517 - val_loss: 1.1509 - val_acc: 0.6493\n",
      "Epoch 27/50\n",
      "1904/1904 [==============================] - 5s 2ms/sample - loss: 0.1762 - acc: 0.9559 - val_loss: 1.1770 - val_acc: 0.6161\n",
      "Epoch 28/50\n",
      "1904/1904 [==============================] - 5s 2ms/sample - loss: 0.1487 - acc: 0.9680 - val_loss: 1.4858 - val_acc: 0.5640\n",
      "Epoch 29/50\n",
      "1904/1904 [==============================] - 5s 2ms/sample - loss: 0.1441 - acc: 0.9732 - val_loss: 1.1395 - val_acc: 0.6019\n",
      "Epoch 30/50\n",
      "1904/1904 [==============================] - 5s 2ms/sample - loss: 0.1288 - acc: 0.9753 - val_loss: 1.2195 - val_acc: 0.6161\n",
      "Epoch 31/50\n",
      "1904/1904 [==============================] - 5s 2ms/sample - loss: 0.1377 - acc: 0.9711 - val_loss: 1.2083 - val_acc: 0.6019\n",
      "Epoch 32/50\n",
      "1904/1904 [==============================] - 5s 2ms/sample - loss: 0.1195 - acc: 0.9764 - val_loss: 1.2867 - val_acc: 0.6209\n",
      "Epoch 33/50\n",
      "1904/1904 [==============================] - 5s 2ms/sample - loss: 0.1087 - acc: 0.9821 - val_loss: 1.3104 - val_acc: 0.5877\n",
      "Epoch 34/50\n",
      "1904/1904 [==============================] - 5s 2ms/sample - loss: 0.1019 - acc: 0.9842 - val_loss: 1.3637 - val_acc: 0.5782\n",
      "Epoch 35/50\n",
      "1904/1904 [==============================] - 5s 2ms/sample - loss: 0.1117 - acc: 0.9795 - val_loss: 1.3243 - val_acc: 0.6114\n",
      "Epoch 36/50\n",
      "1904/1904 [==============================] - 5s 2ms/sample - loss: 0.0923 - acc: 0.9853 - val_loss: 1.3863 - val_acc: 0.5782\n",
      "Epoch 37/50\n",
      "1904/1904 [==============================] - 5s 2ms/sample - loss: 0.0911 - acc: 0.9837 - val_loss: 1.3861 - val_acc: 0.6019\n",
      "Epoch 38/50\n",
      "1904/1904 [==============================] - 5s 2ms/sample - loss: 0.0915 - acc: 0.9800 - val_loss: 1.3868 - val_acc: 0.6066\n",
      "Epoch 39/50\n",
      "1904/1904 [==============================] - 5s 2ms/sample - loss: 0.0836 - acc: 0.9869 - val_loss: 1.3073 - val_acc: 0.6256\n",
      "Epoch 40/50\n",
      "1904/1904 [==============================] - 5s 2ms/sample - loss: 0.1017 - acc: 0.9732 - val_loss: 1.5424 - val_acc: 0.5735\n",
      "Epoch 41/50\n",
      "1904/1904 [==============================] - 5s 2ms/sample - loss: 0.1040 - acc: 0.9774 - val_loss: 1.3238 - val_acc: 0.6209\n",
      "Epoch 42/50\n",
      "1904/1904 [==============================] - 5s 2ms/sample - loss: 0.0858 - acc: 0.9853 - val_loss: 1.3784 - val_acc: 0.6019\n",
      "Epoch 43/50\n",
      "1904/1904 [==============================] - 5s 2ms/sample - loss: 0.0763 - acc: 0.9827 - val_loss: 1.4059 - val_acc: 0.5829\n",
      "Epoch 44/50\n",
      "1904/1904 [==============================] - 5s 2ms/sample - loss: 0.0641 - acc: 0.9926 - val_loss: 1.3560 - val_acc: 0.6066\n",
      "Epoch 45/50\n",
      "1904/1904 [==============================] - 5s 2ms/sample - loss: 0.0702 - acc: 0.9874 - val_loss: 1.4894 - val_acc: 0.6114\n",
      "Epoch 46/50\n",
      "1904/1904 [==============================] - 5s 3ms/sample - loss: 0.0790 - acc: 0.9816 - val_loss: 1.7143 - val_acc: 0.5592\n",
      "Epoch 47/50\n",
      "1904/1904 [==============================] - 5s 3ms/sample - loss: 0.0854 - acc: 0.9774 - val_loss: 1.3445 - val_acc: 0.6161\n",
      "Epoch 48/50\n",
      "1904/1904 [==============================] - 5s 3ms/sample - loss: 0.0813 - acc: 0.9816 - val_loss: 1.5375 - val_acc: 0.5829\n",
      "Epoch 49/50\n",
      "1904/1904 [==============================] - 5s 3ms/sample - loss: 0.0728 - acc: 0.9842 - val_loss: 1.4841 - val_acc: 0.6019\n",
      "Epoch 50/50\n",
      "1904/1904 [==============================] - 5s 3ms/sample - loss: 0.0598 - acc: 0.9905 - val_loss: 1.4405 - val_acc: 0.6066\n",
      "443/443 [==============================] - 0s 616us/sample - loss: 1.7999 - acc: 0.5350\n",
      "Test loss: 1.7998867476228666\n",
      "Test accuracy: 0.5349887\n"
     ]
    }
   ],
   "source": [
    "temp_cnn = TEMPORAL_CNN(X_train_tmp, y_train_labels, X_val_tmp, y_val_labels, X_test_tmp, y_test_labels,dropout=0.4,use_batchnorm=True)\n",
    "temp_cnn.build_model()\n",
    "temp_cnn.train(epochs=50)\n",
    "\n",
    "test_loss, test_accuracy = temp_cnn.evaluate()\n",
    "\n",
    "print('Test loss:', test_loss)\n",
    "print('Test accuracy:', test_accuracy)"
   ]
  },
  {
   "cell_type": "markdown",
   "metadata": {},
   "source": [
    "### Using Elu instead of ReLu"
   ]
  },
  {
   "cell_type": "code",
   "execution_count": 38,
   "metadata": {
    "colab": {
     "base_uri": "https://localhost:8080/",
     "height": 1805
    },
    "colab_type": "code",
    "id": "RJnb1QxDeZuY",
    "outputId": "7cbf9099-151f-466f-d242-747d5f32201e"
   },
   "outputs": [
    {
     "name": "stdout",
     "output_type": "stream",
     "text": [
      "Train on 1904 samples, validate on 211 samples\n",
      "Epoch 1/50\n",
      "1904/1904 [==============================] - 6s 3ms/sample - loss: 1.3645 - acc: 0.3372 - val_loss: 1.2609 - val_acc: 0.4455\n",
      "Epoch 2/50\n",
      "1904/1904 [==============================] - 5s 3ms/sample - loss: 1.2035 - acc: 0.4627 - val_loss: 1.1842 - val_acc: 0.4408\n",
      "Epoch 3/50\n",
      "1904/1904 [==============================] - 5s 3ms/sample - loss: 1.0835 - acc: 0.5509 - val_loss: 1.0492 - val_acc: 0.5213\n",
      "Epoch 4/50\n",
      "1904/1904 [==============================] - 5s 3ms/sample - loss: 0.9830 - acc: 0.5993 - val_loss: 1.1729 - val_acc: 0.5024\n",
      "Epoch 5/50\n",
      "1904/1904 [==============================] - 5s 3ms/sample - loss: 0.9294 - acc: 0.6366 - val_loss: 1.0683 - val_acc: 0.5403\n",
      "Epoch 6/50\n",
      "1904/1904 [==============================] - 5s 3ms/sample - loss: 0.8790 - acc: 0.6439 - val_loss: 1.0243 - val_acc: 0.5782\n",
      "Epoch 7/50\n",
      "1904/1904 [==============================] - 5s 3ms/sample - loss: 0.8473 - acc: 0.6681 - val_loss: 1.0327 - val_acc: 0.5592\n",
      "Epoch 8/50\n",
      "1904/1904 [==============================] - 5s 3ms/sample - loss: 0.8086 - acc: 0.6912 - val_loss: 0.9894 - val_acc: 0.5640\n",
      "Epoch 9/50\n",
      "1904/1904 [==============================] - 5s 3ms/sample - loss: 0.7550 - acc: 0.7148 - val_loss: 0.9869 - val_acc: 0.6256\n",
      "Epoch 10/50\n",
      "1904/1904 [==============================] - 5s 3ms/sample - loss: 0.7481 - acc: 0.7164 - val_loss: 0.9556 - val_acc: 0.6114\n",
      "Epoch 11/50\n",
      "1904/1904 [==============================] - 5s 3ms/sample - loss: 0.7253 - acc: 0.7201 - val_loss: 0.9547 - val_acc: 0.6114\n",
      "Epoch 12/50\n",
      "1904/1904 [==============================] - 5s 3ms/sample - loss: 0.6870 - acc: 0.7379 - val_loss: 0.9316 - val_acc: 0.6019\n",
      "Epoch 13/50\n",
      "1904/1904 [==============================] - 5s 3ms/sample - loss: 0.6796 - acc: 0.7474 - val_loss: 0.9662 - val_acc: 0.6019\n",
      "Epoch 14/50\n",
      "1904/1904 [==============================] - 5s 3ms/sample - loss: 0.6583 - acc: 0.7500 - val_loss: 0.9546 - val_acc: 0.6114\n",
      "Epoch 15/50\n",
      "1904/1904 [==============================] - 5s 3ms/sample - loss: 0.6437 - acc: 0.7526 - val_loss: 0.8856 - val_acc: 0.6209\n",
      "Epoch 16/50\n",
      "1904/1904 [==============================] - 5s 3ms/sample - loss: 0.6224 - acc: 0.7694 - val_loss: 0.9849 - val_acc: 0.5972\n",
      "Epoch 17/50\n",
      "1904/1904 [==============================] - 5s 3ms/sample - loss: 0.5986 - acc: 0.7805 - val_loss: 0.8883 - val_acc: 0.6635\n",
      "Epoch 18/50\n",
      "1904/1904 [==============================] - 5s 3ms/sample - loss: 0.5756 - acc: 0.7873 - val_loss: 0.9559 - val_acc: 0.6540\n",
      "Epoch 19/50\n",
      "1904/1904 [==============================] - 5s 3ms/sample - loss: 0.5611 - acc: 0.7962 - val_loss: 1.0532 - val_acc: 0.6019\n",
      "Epoch 20/50\n",
      "1904/1904 [==============================] - 5s 3ms/sample - loss: 0.5710 - acc: 0.7778 - val_loss: 0.9653 - val_acc: 0.6445\n",
      "Epoch 21/50\n",
      "1904/1904 [==============================] - 5s 3ms/sample - loss: 0.5569 - acc: 0.7889 - val_loss: 0.9225 - val_acc: 0.6540\n",
      "Epoch 22/50\n",
      "1904/1904 [==============================] - 5s 3ms/sample - loss: 0.5176 - acc: 0.8104 - val_loss: 0.9240 - val_acc: 0.6303\n",
      "Epoch 23/50\n",
      "1904/1904 [==============================] - 5s 3ms/sample - loss: 0.5105 - acc: 0.8178 - val_loss: 0.9339 - val_acc: 0.6493\n",
      "Epoch 24/50\n",
      "1904/1904 [==============================] - 5s 3ms/sample - loss: 0.4953 - acc: 0.8157 - val_loss: 0.9362 - val_acc: 0.6161\n",
      "Epoch 25/50\n",
      "1904/1904 [==============================] - 5s 3ms/sample - loss: 0.4804 - acc: 0.8204 - val_loss: 0.9307 - val_acc: 0.6445\n",
      "Epoch 26/50\n",
      "1904/1904 [==============================] - 5s 3ms/sample - loss: 0.4693 - acc: 0.8351 - val_loss: 0.9575 - val_acc: 0.6493\n",
      "Epoch 27/50\n",
      "1904/1904 [==============================] - 5s 3ms/sample - loss: 0.4652 - acc: 0.8277 - val_loss: 1.0025 - val_acc: 0.6066\n",
      "Epoch 28/50\n",
      "1904/1904 [==============================] - 5s 3ms/sample - loss: 0.4444 - acc: 0.8424 - val_loss: 1.0176 - val_acc: 0.6161\n",
      "Epoch 29/50\n",
      "1904/1904 [==============================] - 5s 3ms/sample - loss: 0.4339 - acc: 0.8461 - val_loss: 1.0893 - val_acc: 0.6209\n",
      "Epoch 30/50\n",
      "1904/1904 [==============================] - 5s 3ms/sample - loss: 0.4440 - acc: 0.8377 - val_loss: 1.0094 - val_acc: 0.6256\n",
      "Epoch 31/50\n",
      "1904/1904 [==============================] - 5s 3ms/sample - loss: 0.4192 - acc: 0.8519 - val_loss: 0.9732 - val_acc: 0.6398\n",
      "Epoch 32/50\n",
      "1904/1904 [==============================] - 5s 3ms/sample - loss: 0.4060 - acc: 0.8472 - val_loss: 1.0111 - val_acc: 0.6256\n",
      "Epoch 33/50\n",
      "1904/1904 [==============================] - 5s 3ms/sample - loss: 0.4035 - acc: 0.8503 - val_loss: 0.9745 - val_acc: 0.6588\n",
      "Epoch 34/50\n",
      "1904/1904 [==============================] - 5s 3ms/sample - loss: 0.3961 - acc: 0.8582 - val_loss: 1.0256 - val_acc: 0.6161\n",
      "Epoch 35/50\n",
      "1904/1904 [==============================] - 5s 3ms/sample - loss: 0.3749 - acc: 0.8708 - val_loss: 1.1129 - val_acc: 0.6066\n",
      "Epoch 36/50\n",
      "1904/1904 [==============================] - 5s 3ms/sample - loss: 0.3836 - acc: 0.8545 - val_loss: 1.0256 - val_acc: 0.6303\n",
      "Epoch 37/50\n",
      "1904/1904 [==============================] - 5s 3ms/sample - loss: 0.3860 - acc: 0.8603 - val_loss: 1.0099 - val_acc: 0.6161\n",
      "Epoch 38/50\n",
      "1904/1904 [==============================] - 5s 3ms/sample - loss: 0.3672 - acc: 0.8724 - val_loss: 1.0618 - val_acc: 0.6114\n",
      "Epoch 39/50\n",
      "1904/1904 [==============================] - 5s 3ms/sample - loss: 0.3524 - acc: 0.8776 - val_loss: 1.0088 - val_acc: 0.6398\n",
      "Epoch 40/50\n",
      "1904/1904 [==============================] - 5s 3ms/sample - loss: 0.3408 - acc: 0.8771 - val_loss: 0.9837 - val_acc: 0.6682\n",
      "Epoch 41/50\n",
      "1904/1904 [==============================] - 5s 3ms/sample - loss: 0.3289 - acc: 0.8960 - val_loss: 0.9784 - val_acc: 0.6351\n",
      "Epoch 42/50\n",
      "1904/1904 [==============================] - 5s 3ms/sample - loss: 0.3096 - acc: 0.8997 - val_loss: 1.0417 - val_acc: 0.6730\n",
      "Epoch 43/50\n",
      "1904/1904 [==============================] - 5s 3ms/sample - loss: 0.3071 - acc: 0.9044 - val_loss: 1.0189 - val_acc: 0.6351\n",
      "Epoch 44/50\n",
      "1904/1904 [==============================] - 5s 3ms/sample - loss: 0.3307 - acc: 0.8845 - val_loss: 1.0599 - val_acc: 0.6303\n",
      "Epoch 45/50\n",
      "1904/1904 [==============================] - 5s 3ms/sample - loss: 0.3419 - acc: 0.8771 - val_loss: 1.0945 - val_acc: 0.6161\n",
      "Epoch 46/50\n",
      "1904/1904 [==============================] - 5s 3ms/sample - loss: 0.2962 - acc: 0.8981 - val_loss: 1.1067 - val_acc: 0.6114\n",
      "Epoch 47/50\n",
      "1904/1904 [==============================] - 5s 3ms/sample - loss: 0.3160 - acc: 0.8876 - val_loss: 1.1108 - val_acc: 0.6682\n",
      "Epoch 48/50\n",
      "1904/1904 [==============================] - 5s 3ms/sample - loss: 0.3144 - acc: 0.8892 - val_loss: 1.0921 - val_acc: 0.6682\n",
      "Epoch 49/50\n",
      "1904/1904 [==============================] - 5s 3ms/sample - loss: 0.2908 - acc: 0.9034 - val_loss: 1.0770 - val_acc: 0.6398\n",
      "Epoch 50/50\n",
      "1904/1904 [==============================] - 5s 3ms/sample - loss: 0.2834 - acc: 0.9044 - val_loss: 1.0925 - val_acc: 0.6019\n",
      "443/443 [==============================] - 0s 616us/sample - loss: 1.0954 - acc: 0.6208\n",
      "Test loss: 1.0953830402537879\n",
      "Test accuracy: 0.6207675\n"
     ]
    }
   ],
   "source": [
    "temp_cnn = TEMPORAL_CNN(X_train_tmp, y_train_labels, X_val_tmp, y_val_labels, X_test_tmp, y_test_labels,dropout=0.4,use_batchnorm=True,use_elu=True)\n",
    "temp_cnn.build_model()\n",
    "temp_cnn.train(epochs=50)\n",
    "\n",
    "test_loss, test_accuracy = temp_cnn.evaluate()\n",
    "\n",
    "print('Test loss:', test_loss)\n",
    "print('Test accuracy:', test_accuracy)"
   ]
  },
  {
   "cell_type": "markdown",
   "metadata": {},
   "source": [
    "### Increasing dropout to combat overfitting\n",
    "\n",
    "(Didn't seem to help)"
   ]
  },
  {
   "cell_type": "code",
   "execution_count": 40,
   "metadata": {
    "colab": {
     "base_uri": "https://localhost:8080/",
     "height": 955
    },
    "colab_type": "code",
    "id": "GvBimBQgkU99",
    "outputId": "ac372cdf-a2b8-4df9-f519-72c83ebc39c2"
   },
   "outputs": [
    {
     "name": "stdout",
     "output_type": "stream",
     "text": [
      "Train on 1904 samples, validate on 211 samples\n",
      "Epoch 1/25\n",
      "1904/1904 [==============================] - 6s 3ms/sample - loss: 1.3486 - acc: 0.3445 - val_loss: 1.3430 - val_acc: 0.4502\n",
      "Epoch 2/25\n",
      "1904/1904 [==============================] - 5s 3ms/sample - loss: 1.1918 - acc: 0.4795 - val_loss: 1.2548 - val_acc: 0.4739\n",
      "Epoch 3/25\n",
      "1904/1904 [==============================] - 5s 3ms/sample - loss: 1.0830 - acc: 0.5373 - val_loss: 1.1435 - val_acc: 0.4882\n",
      "Epoch 4/25\n",
      "1904/1904 [==============================] - 5s 3ms/sample - loss: 1.0192 - acc: 0.5704 - val_loss: 1.1645 - val_acc: 0.4976\n",
      "Epoch 5/25\n",
      "1904/1904 [==============================] - 5s 3ms/sample - loss: 0.9556 - acc: 0.6077 - val_loss: 1.1090 - val_acc: 0.5498\n",
      "Epoch 6/25\n",
      "1904/1904 [==============================] - 5s 3ms/sample - loss: 0.9119 - acc: 0.6271 - val_loss: 1.0895 - val_acc: 0.5213\n",
      "Epoch 7/25\n",
      "1904/1904 [==============================] - 5s 3ms/sample - loss: 0.8723 - acc: 0.6376 - val_loss: 1.0024 - val_acc: 0.5735\n",
      "Epoch 8/25\n",
      "1904/1904 [==============================] - 5s 3ms/sample - loss: 0.8224 - acc: 0.6822 - val_loss: 1.0415 - val_acc: 0.5450\n",
      "Epoch 9/25\n",
      "1904/1904 [==============================] - 5s 3ms/sample - loss: 0.7998 - acc: 0.6933 - val_loss: 0.9986 - val_acc: 0.5687\n",
      "Epoch 10/25\n",
      "1904/1904 [==============================] - 5s 3ms/sample - loss: 0.7869 - acc: 0.6943 - val_loss: 0.9301 - val_acc: 0.5972\n",
      "Epoch 11/25\n",
      "1904/1904 [==============================] - 5s 3ms/sample - loss: 0.7411 - acc: 0.7106 - val_loss: 0.9382 - val_acc: 0.6019\n",
      "Epoch 12/25\n",
      "1904/1904 [==============================] - 5s 3ms/sample - loss: 0.7466 - acc: 0.7022 - val_loss: 0.9264 - val_acc: 0.6019\n",
      "Epoch 13/25\n",
      "1904/1904 [==============================] - 5s 3ms/sample - loss: 0.7130 - acc: 0.7237 - val_loss: 1.1050 - val_acc: 0.5924\n",
      "Epoch 14/25\n",
      "1904/1904 [==============================] - 5s 3ms/sample - loss: 0.7215 - acc: 0.7300 - val_loss: 0.9060 - val_acc: 0.6351\n",
      "Epoch 15/25\n",
      "1904/1904 [==============================] - 5s 3ms/sample - loss: 0.6883 - acc: 0.7300 - val_loss: 0.9487 - val_acc: 0.6351\n",
      "Epoch 16/25\n",
      "1904/1904 [==============================] - 5s 3ms/sample - loss: 0.6597 - acc: 0.7505 - val_loss: 0.8738 - val_acc: 0.6398\n",
      "Epoch 17/25\n",
      "1904/1904 [==============================] - 5s 3ms/sample - loss: 0.6456 - acc: 0.7558 - val_loss: 0.9774 - val_acc: 0.5877\n",
      "Epoch 18/25\n",
      "1904/1904 [==============================] - 5s 3ms/sample - loss: 0.6279 - acc: 0.7616 - val_loss: 0.9011 - val_acc: 0.6303\n",
      "Epoch 19/25\n",
      "1904/1904 [==============================] - 5s 3ms/sample - loss: 0.6291 - acc: 0.7637 - val_loss: 0.9723 - val_acc: 0.5877\n",
      "Epoch 20/25\n",
      "1904/1904 [==============================] - 5s 3ms/sample - loss: 0.6186 - acc: 0.7673 - val_loss: 0.9387 - val_acc: 0.5972\n",
      "Epoch 21/25\n",
      "1904/1904 [==============================] - 5s 3ms/sample - loss: 0.6008 - acc: 0.7763 - val_loss: 0.9430 - val_acc: 0.6066\n",
      "Epoch 22/25\n",
      "1904/1904 [==============================] - 5s 3ms/sample - loss: 0.5918 - acc: 0.7757 - val_loss: 0.9048 - val_acc: 0.6351\n",
      "Epoch 23/25\n",
      "1904/1904 [==============================] - 5s 3ms/sample - loss: 0.5713 - acc: 0.7873 - val_loss: 0.8937 - val_acc: 0.6493\n",
      "Epoch 24/25\n",
      "1904/1904 [==============================] - 5s 3ms/sample - loss: 0.5542 - acc: 0.7962 - val_loss: 0.9853 - val_acc: 0.5924\n",
      "Epoch 25/25\n",
      "1904/1904 [==============================] - 5s 3ms/sample - loss: 0.5456 - acc: 0.7878 - val_loss: 0.9093 - val_acc: 0.6351\n",
      "443/443 [==============================] - 0s 593us/sample - loss: 0.9683 - acc: 0.6117\n",
      "Test loss: 0.9683242689136996\n",
      "Test accuracy: 0.61173815\n"
     ]
    }
   ],
   "source": [
    "temp_cnn = TEMPORAL_CNN(X_train_tmp, y_train_labels, X_val_tmp, y_val_labels, X_test_tmp, y_test_labels,dropout=0.55,use_batchnorm=True,use_elu=True)\n",
    "temp_cnn.build_model()\n",
    "temp_cnn.train(epochs=25)\n",
    "\n",
    "test_loss, test_accuracy = temp_cnn.evaluate()\n",
    "\n",
    "print('Test loss:', test_loss)\n",
    "print('Test accuracy:', test_accuracy)"
   ]
  },
  {
   "cell_type": "markdown",
   "metadata": {},
   "source": [
    "### Result Summary:\n",
    "\n",
    "**Best Test Accuracy:** 62% (better than reported 55%)"
   ]
  }
 ],
 "metadata": {
  "accelerator": "GPU",
  "colab": {
   "collapsed_sections": [],
   "name": "EEG239AS.ipynb",
   "provenance": [],
   "version": "0.3.2"
  },
  "kernelspec": {
   "display_name": "Python 3",
   "language": "python",
   "name": "python3"
  },
  "language_info": {
   "codemirror_mode": {
    "name": "ipython",
    "version": 3
   },
   "file_extension": ".py",
   "mimetype": "text/x-python",
   "name": "python",
   "nbconvert_exporter": "python",
   "pygments_lexer": "ipython3",
   "version": "3.6.5"
  }
 },
 "nbformat": 4,
 "nbformat_minor": 1
}
