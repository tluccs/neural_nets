{
 "cells": [
  {
   "cell_type": "markdown",
   "metadata": {},
   "source": [
    "## Some attempts at Temporal Convolutions\n",
    "\n",
    "Network inspired by Schirrmeister - performing temporal convolutions"
   ]
  },
  {
   "cell_type": "code",
   "execution_count": 1,
   "metadata": {},
   "outputs": [
    {
     "name": "stderr",
     "output_type": "stream",
     "text": [
      "Using TensorFlow backend.\n"
     ]
    }
   ],
   "source": [
    "# Imports and setup\n",
    "\n",
    "import numpy as np\n",
    "import tensorflow as tf\n",
    "from tensorflow import keras\n",
    "from keras.layers import LSTM\n",
    "from keras.layers import GRU\n",
    "import matplotlib.pyplot as plt\n",
    "\n",
    "from utils.load_data import *\n",
    "from utils.utilities import *\n",
    "from models.cnn import CNN\n",
    "from models.rnn import RNN\n",
    "from models.temporal_cnn import TEMPORAL_CNN\n",
    "from models.autoencoder import Autoencoder\n",
    "\n",
    "\n",
    "%load_ext autoreload\n",
    "%autoreload 2"
   ]
  },
  {
   "cell_type": "markdown",
   "metadata": {},
   "source": [
    "### Loading Data and Train/Test/Val Splitting"
   ]
  },
  {
   "cell_type": "code",
   "execution_count": 2,
   "metadata": {},
   "outputs": [
    {
     "name": "stdout",
     "output_type": "stream",
     "text": [
      "Training/Valid data shape: (2115, 22, 1000)\n",
      "Test data shape: (443, 22, 1000)\n",
      "Training/Valid target shape: (2115,)\n",
      "Test target shape: (443,)\n",
      "Person train/valid shape: (2115, 1)\n",
      "Person test shape: (443, 1)\n"
     ]
    }
   ],
   "source": [
    "# Loads data from the EEG dataset and removes all EOG data\n",
    "\n",
    "person_train_val, X_train_val, y_train_val, person_test, X_test, y_test = load_EEG_data()\n",
    "\n",
    "print ('Training/Valid data shape: {}'.format(X_train_val.shape))\n",
    "print ('Test data shape: {}'.format(X_test.shape))\n",
    "print ('Training/Valid target shape: {}'.format(y_train_val.shape))\n",
    "print ('Test target shape: {}'.format(y_test.shape))\n",
    "print ('Person train/valid shape: {}'.format(person_train_val.shape))\n",
    "print ('Person test shape: {}'.format(person_test.shape))"
   ]
  },
  {
   "cell_type": "code",
   "execution_count": 3,
   "metadata": {},
   "outputs": [
    {
     "name": "stdout",
     "output_type": "stream",
     "text": [
      "Training data shape: (1904, 22, 1000)\n",
      "Training target shape: (1904,)\n",
      "Validation data shape: (211, 22, 1000)\n",
      "Validation target shape: (211,)\n"
     ]
    }
   ],
   "source": [
    "X_train, y_train, X_val, y_val = split_train_val(X_train_val, y_train_val, percent_validation=0.1)\n",
    "\n",
    "print ('Training data shape: {}'.format(X_train.shape))\n",
    "print ('Training target shape: {}'.format(y_train.shape))\n",
    "print ('Validation data shape: {}'.format(X_val.shape))\n",
    "print ('Validation target shape: {}'.format(y_val.shape))"
   ]
  },
  {
   "cell_type": "markdown",
   "metadata": {},
   "source": [
    "### One Hot Encoding for Output Labels"
   ]
  },
  {
   "cell_type": "code",
   "execution_count": 4,
   "metadata": {},
   "outputs": [
    {
     "name": "stdout",
     "output_type": "stream",
     "text": [
      "771\n",
      "(211,)\n",
      "(443,)\n",
      "[0. 0. 1. 0.]\n",
      "(211, 4)\n",
      "(443, 4)\n"
     ]
    }
   ],
   "source": [
    "print (y_val[33])\n",
    "print (y_val.shape)\n",
    "print (y_test.shape)\n",
    "\n",
    "y_train_labels = one_hot_encode(y_train)\n",
    "y_val_labels = one_hot_encode(y_val)\n",
    "y_test_labels = one_hot_encode(y_test)\n",
    "\n",
    "print (y_val_labels[33])\n",
    "print (y_val_labels.shape)\n",
    "print (y_test_labels.shape)\n"
   ]
  },
  {
   "cell_type": "markdown",
   "metadata": {},
   "source": [
    "### Reshaping input data for temporal CNN\n",
    "\n",
    "Reshape from (N, E, T) to (N, E, T, 1) - to let CNN know that we are only considering \"one channel\""
   ]
  },
  {
   "cell_type": "code",
   "execution_count": 5,
   "metadata": {},
   "outputs": [],
   "source": [
    "N,E,T = X_train.shape\n",
    "X_train_tmp = X_train.reshape((N,E,T,1))\n",
    "\n",
    "N,E,T = X_val.shape\n",
    "X_val_tmp = X_val.reshape((N,E,T,1))\n",
    "\n",
    "N,E,T = X_test.shape\n",
    "X_test_tmp = X_test.reshape((N,E,T,1))"
   ]
  },
  {
   "cell_type": "code",
   "execution_count": 8,
   "metadata": {},
   "outputs": [
    {
     "name": "stdout",
     "output_type": "stream",
     "text": [
      "Train on 1904 samples, validate on 211 samples\n",
      "WARNING:tensorflow:From /Users/HirdayGupta/Documents/UCLA/Winter_19/ECE_239AS/Homeworks/neural_nets/env/lib/python3.6/site-packages/tensorflow/python/ops/math_ops.py:3066: to_int32 (from tensorflow.python.ops.math_ops) is deprecated and will be removed in a future version.\n",
      "Instructions for updating:\n",
      "Use tf.cast instead.\n",
      "Epoch 1/20\n",
      "1904/1904 [==============================] - 20s 10ms/sample - loss: 4369.6332 - acc: 0.1991 - val_loss: 4272.4093 - val_acc: 0.3649\n",
      "Epoch 2/20\n",
      "1904/1904 [==============================] - 19s 10ms/sample - loss: 4272.9744 - acc: 0.3519 - val_loss: 4272.1448 - val_acc: 0.3602\n",
      "Epoch 3/20\n",
      "1904/1904 [==============================] - 18s 10ms/sample - loss: 4272.8583 - acc: 0.3057 - val_loss: 4272.0856 - val_acc: 0.2891\n",
      "Epoch 4/20\n",
      "1904/1904 [==============================] - 19s 10ms/sample - loss: 4272.8107 - acc: 0.2694 - val_loss: 4272.0498 - val_acc: 0.2844\n",
      "Epoch 5/20\n",
      "1904/1904 [==============================] - 18s 10ms/sample - loss: 4272.7812 - acc: 0.2568 - val_loss: 4272.0273 - val_acc: 0.2701\n",
      "Epoch 6/20\n",
      "1904/1904 [==============================] - 19s 10ms/sample - loss: 4272.7607 - acc: 0.2563 - val_loss: 4272.0105 - val_acc: 0.2844\n",
      "Epoch 7/20\n",
      "1904/1904 [==============================] - 19s 10ms/sample - loss: 4272.7457 - acc: 0.2484 - val_loss: 4271.9984 - val_acc: 0.3033\n",
      "Epoch 8/20\n",
      "1904/1904 [==============================] - 19s 10ms/sample - loss: 4272.7346 - acc: 0.2532 - val_loss: 4271.9900 - val_acc: 0.2938\n",
      "Epoch 9/20\n",
      "1904/1904 [==============================] - 20s 11ms/sample - loss: 4272.7260 - acc: 0.2542 - val_loss: 4271.9831 - val_acc: 0.2986\n",
      "Epoch 10/20\n",
      "1904/1904 [==============================] - 20s 11ms/sample - loss: 4272.7192 - acc: 0.2684 - val_loss: 4271.9773 - val_acc: 0.3033\n",
      "Epoch 11/20\n",
      "1904/1904 [==============================] - 20s 10ms/sample - loss: 4272.7137 - acc: 0.2673 - val_loss: 4271.9728 - val_acc: 0.3175\n",
      "Epoch 12/20\n",
      "1904/1904 [==============================] - 19s 10ms/sample - loss: 4272.7093 - acc: 0.2736 - val_loss: 4271.9692 - val_acc: 0.3081\n",
      "Epoch 13/20\n",
      "1904/1904 [==============================] - 19s 10ms/sample - loss: 4272.7054 - acc: 0.2694 - val_loss: 4271.9663 - val_acc: 0.3033\n",
      "Epoch 14/20\n",
      "1904/1904 [==============================] - 20s 10ms/sample - loss: 4272.7022 - acc: 0.2731 - val_loss: 4271.9641 - val_acc: 0.3033\n",
      "Epoch 15/20\n",
      "1904/1904 [==============================] - 19s 10ms/sample - loss: 4272.6995 - acc: 0.2721 - val_loss: 4271.9620 - val_acc: 0.3033\n",
      "Epoch 16/20\n",
      "1904/1904 [==============================] - 19s 10ms/sample - loss: 4272.6972 - acc: 0.2689 - val_loss: 4271.9603 - val_acc: 0.3081\n",
      "Epoch 17/20\n",
      "1904/1904 [==============================] - 20s 10ms/sample - loss: 4272.6950 - acc: 0.2773 - val_loss: 4271.9586 - val_acc: 0.3033\n",
      "Epoch 18/20\n",
      "1904/1904 [==============================] - 19s 10ms/sample - loss: 4272.6933 - acc: 0.2747 - val_loss: 4271.9573 - val_acc: 0.3033\n",
      "Epoch 19/20\n",
      "1904/1904 [==============================] - 19s 10ms/sample - loss: 4272.6918 - acc: 0.2841 - val_loss: 4271.9562 - val_acc: 0.3033\n",
      "Epoch 20/20\n",
      "1904/1904 [==============================] - 19s 10ms/sample - loss: 4272.6904 - acc: 0.2684 - val_loss: 4271.9549 - val_acc: 0.2938\n"
     ]
    }
   ],
   "source": [
    "temp_cnn = TEMPORAL_CNN(X_train_tmp, y_train, X_val_tmp, y_val, X_test_tmp, y_test)\n",
    "temp_cnn.train(epochs=20)"
   ]
  },
  {
   "cell_type": "code",
   "execution_count": null,
   "metadata": {},
   "outputs": [],
   "source": []
  }
 ],
 "metadata": {
  "kernelspec": {
   "display_name": "Python 3",
   "language": "python",
   "name": "python3"
  },
  "language_info": {
   "codemirror_mode": {
    "name": "ipython",
    "version": 3
   },
   "file_extension": ".py",
   "mimetype": "text/x-python",
   "name": "python",
   "nbconvert_exporter": "python",
   "pygments_lexer": "ipython3",
   "version": "3.6.5"
  }
 },
 "nbformat": 4,
 "nbformat_minor": 2
}
