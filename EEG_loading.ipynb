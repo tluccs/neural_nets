{
 "cells": [
  {
   "cell_type": "markdown",
   "metadata": {},
   "source": [
    "## ECE 239 Final Project\n",
    "\n",
    "In this project we explore various deep learning algorithms on the EEG dataset. \n"
   ]
  },
  {
   "cell_type": "code",
   "execution_count": 5,
   "metadata": {},
   "outputs": [
    {
     "name": "stdout",
     "output_type": "stream",
     "text": [
      "The autoreload extension is already loaded. To reload it, use:\n",
      "  %reload_ext autoreload\n"
     ]
    }
   ],
   "source": [
    "# Imports and setup\n",
    "\n",
    "import numpy as np\n",
    "import tensorflow as tf\n",
    "from tensorflow import keras\n",
    "from keras.layers import LSTM\n",
    "from keras.layers import GRU\n",
    "\n",
    "from utils.load_data import *\n",
    "from utils.utilities import *\n",
    "from models.cnn import CNN\n",
    "from models.rnn import RNN\n",
    "\n",
    "%load_ext autoreload\n",
    "%autoreload 2"
   ]
  },
  {
   "cell_type": "code",
   "execution_count": 6,
   "metadata": {},
   "outputs": [
    {
     "name": "stdout",
     "output_type": "stream",
     "text": [
      "Training/Valid data shape: (2115, 22, 1000)\n",
      "Test data shape: (443, 22, 1000)\n",
      "Training/Valid target shape: (2115,)\n",
      "Test target shape: (443,)\n",
      "Person train/valid shape: (2115, 1)\n",
      "Person test shape: (443, 1)\n"
     ]
    }
   ],
   "source": [
    "# Loads data from the EEG dataset and removes all EOG data\n",
    "\n",
    "person_train_val, X_train_val, y_train_val, person_test, X_test, y_test = load_EEG_data()\n",
    "\n",
    "print ('Training/Valid data shape: {}'.format(X_train_val.shape))\n",
    "print ('Test data shape: {}'.format(X_test.shape))\n",
    "print ('Training/Valid target shape: {}'.format(y_train_val.shape))\n",
    "print ('Test target shape: {}'.format(y_test.shape))\n",
    "print ('Person train/valid shape: {}'.format(person_train_val.shape))\n",
    "print ('Person test shape: {}'.format(person_test.shape))"
   ]
  },
  {
   "cell_type": "markdown",
   "metadata": {},
   "source": [
    "### Split into train and validation datasets"
   ]
  },
  {
   "cell_type": "code",
   "execution_count": 7,
   "metadata": {},
   "outputs": [
    {
     "name": "stdout",
     "output_type": "stream",
     "text": [
      "Training data shape: (1904, 22, 1000)\n",
      "Training target shape: (1904,)\n",
      "Validation data shape: (211, 22, 1000)\n",
      "Validation target shape: (211,)\n"
     ]
    }
   ],
   "source": [
    "X_train, y_train, X_val, y_val = split_train_val(X_train_val, y_train_val, percent_validation=0.1)\n",
    "\n",
    "print ('Training data shape: {}'.format(X_train.shape))\n",
    "print ('Training target shape: {}'.format(y_train.shape))\n",
    "print ('Validation data shape: {}'.format(X_val.shape))\n",
    "print ('Validation target shape: {}'.format(y_val.shape))"
   ]
  },
  {
   "cell_type": "markdown",
   "metadata": {},
   "source": [
    "## One hot encoding for all labels"
   ]
  },
  {
   "cell_type": "code",
   "execution_count": 8,
   "metadata": {},
   "outputs": [
    {
     "name": "stdout",
     "output_type": "stream",
     "text": [
      "770\n",
      "(211,)\n",
      "(443,)\n",
      "[0. 1. 0. 0.]\n",
      "(211, 4)\n",
      "(443, 4)\n"
     ]
    }
   ],
   "source": [
    "print (y_val[33])\n",
    "print (y_val.shape)\n",
    "print (y_test.shape)\n",
    "\n",
    "y_train_labels = one_hot_encode(y_train)\n",
    "y_val_labels = one_hot_encode(y_val)\n",
    "y_test_labels = one_hot_encode(y_test)\n",
    "\n",
    "print (y_val_labels[33])\n",
    "print (y_val_labels.shape)\n",
    "print (y_test_labels.shape)\n"
   ]
  },
  {
   "cell_type": "markdown",
   "metadata": {},
   "source": [
    "## Classifying data using a CNN"
   ]
  },
  {
   "cell_type": "code",
   "execution_count": 9,
   "metadata": {
    "scrolled": false
   },
   "outputs": [
    {
     "name": "stdout",
     "output_type": "stream",
     "text": [
      "WARNING:tensorflow:From /Users/jayantmehra/Documents/CS239AS/Project/neural_nets/venv/lib/python3.6/site-packages/tensorflow/python/ops/resource_variable_ops.py:435: colocate_with (from tensorflow.python.framework.ops) is deprecated and will be removed in a future version.\n",
      "Instructions for updating:\n",
      "Colocations handled automatically by placer.\n",
      "Train on 1904 samples, validate on 211 samples\n",
      "WARNING:tensorflow:From /Users/jayantmehra/Documents/CS239AS/Project/neural_nets/venv/lib/python3.6/site-packages/tensorflow/python/ops/math_ops.py:3066: to_int32 (from tensorflow.python.ops.math_ops) is deprecated and will be removed in a future version.\n",
      "Instructions for updating:\n",
      "Use tf.cast instead.\n",
      "Epoch 1/5\n",
      "1904/1904 [==============================] - 1s 535us/sample - loss: 1.4047 - acc: 0.2705 - val_loss: 1.3757 - val_acc: 0.2891\n",
      "Epoch 2/5\n",
      "1904/1904 [==============================] - 1s 270us/sample - loss: 1.3515 - acc: 0.3246 - val_loss: 1.3755 - val_acc: 0.3128\n",
      "Epoch 3/5\n",
      "1904/1904 [==============================] - 1s 298us/sample - loss: 1.2943 - acc: 0.3598 - val_loss: 1.4279 - val_acc: 0.2796\n",
      "Epoch 4/5\n",
      "1904/1904 [==============================] - 0s 235us/sample - loss: 1.2638 - acc: 0.3745 - val_loss: 1.4776 - val_acc: 0.2891\n",
      "Epoch 5/5\n",
      "1904/1904 [==============================] - 1s 264us/sample - loss: 1.2184 - acc: 0.4154 - val_loss: 1.4616 - val_acc: 0.2749\n",
      "443/443 [==============================] - 0s 95us/sample - loss: 1.4682 - acc: 0.3160\n",
      "Test loss: 1.4682339650513625\n",
      "Test accuracy: 0.31602708\n"
     ]
    }
   ],
   "source": [
    "cnn = CNN(X_train, y_train_labels, X_val, y_val_labels, X_test, y_test_labels)\n",
    "cnn.train(stride=2, optimizer='adam', epochs=5)\n",
    "test_loss, test_accuracy = cnn.evaluate()\n",
    "print('Test loss:', test_loss)\n",
    "print('Test accuracy:', test_accuracy)"
   ]
  },
  {
   "cell_type": "markdown",
   "metadata": {
    "collapsed": true
   },
   "source": [
    "## Classifying data using an LSTM Architecture"
   ]
  },
  {
   "cell_type": "code",
   "execution_count": 11,
   "metadata": {},
   "outputs": [
    {
     "name": "stdout",
     "output_type": "stream",
     "text": [
      "Train on 1904 samples, validate on 211 samples\n",
      "Epoch 1/5\n",
      "1904/1904 [==============================] - 6s 3ms/step - loss: 0.6438 - acc: 0.6574 - val_loss: 0.5901 - val_acc: 0.7216\n",
      "Epoch 2/5\n",
      "1904/1904 [==============================] - 4s 2ms/step - loss: 0.4884 - acc: 0.7748 - val_loss: 0.5816 - val_acc: 0.7299\n",
      "Epoch 3/5\n",
      "1904/1904 [==============================] - 4s 2ms/step - loss: 0.4117 - acc: 0.8276 - val_loss: 0.5732 - val_acc: 0.7382\n",
      "Epoch 4/5\n",
      "1904/1904 [==============================] - 4s 2ms/step - loss: 0.3538 - acc: 0.8667 - val_loss: 0.5794 - val_acc: 0.7251\n",
      "Epoch 5/5\n",
      "1904/1904 [==============================] - 4s 2ms/step - loss: 0.3048 - acc: 0.8989 - val_loss: 0.5835 - val_acc: 0.7310\n",
      "Test loss: 0.5970056922118228\n",
      "Test accuracy: 0.7229119652280959\n"
     ]
    },
    {
     "data": {
      "image/png": "[encoded data removed]",
      "text/plain": [
       "<Figure size 432x288 with 1 Axes>"
      ]
     },
     "metadata": {
      "needs_background": "light"
     },
     "output_type": "display_data"
    }
   ],
   "source": [
    "rnn = RNN(X_train, y_train_labels, X_val, y_val_labels, X_test, y_test_labels)\n",
    "rnn.train(RNN_architecture=LSTM, activation=\"sigmoid\", \\\n",
    "              optimizer='adam', epochs=5, batch_size=64, dropout=0.3)\n",
    "test_loss, test_accuracy = rnn.evaluate()\n",
    "print('Test loss:', test_loss)\n",
    "print('Test accuracy:', test_accuracy)\n",
    "\n",
    "\n",
    "rnn.plot()"
   ]
  },
  {
   "cell_type": "markdown",
   "metadata": {},
   "source": [
    "## Check Results"
   ]
  },
  {
   "cell_type": "code",
   "execution_count": 33,
   "metadata": {},
   "outputs": [
    {
     "name": "stdout",
     "output_type": "stream",
     "text": [
      "TRAINING\n",
      "Predicted labels:\n",
      "[0 0 3 1 3 0 0 3 3 0 2 0 2 0 2 3 1 2 0 0 1 2 2 3 1 1 1 3 1 0 1 1 1 1 1 2 0\n",
      " 1 2 3 3 0 0 1 2 0 2 1 3 2 2 1 2 1 3 1 2 0 0 2 0 0 0 0 1 2 3 2 3 3 0 3 3 2\n",
      " 1 1 2 3 0 0 2 2 2 1 1 1 2 0 2 0 2 3 0 0 2 1 0 2 0 0 2 0 1 2 1 0 2 3 2 1 3\n",
      " 0 3 1 2 3 2 1 3 3 1 3 1 1 3 2 3 3 2 0 2 0 0 1 0 1 2 3 0 2 1 2 0 0 1 2 3 3\n",
      " 3 1 1 1 3 0 2 3 1 2 2 1 3 1 3 3 0 0 1 1 3 1 3 3 3 0 0 0 3 2 2 3 2 2 0 1 0\n",
      " 0 1 3 3 2 1 1 1 2 2 3 3 0 0 1 3 2 3 2 1 0 2 1 0 2 2 2 3 3 3 2 3 2 3 3 2 3\n",
      " 2 0 1 3 0 3 0 0 1 3 0 2 0 2 0 3 1 3 2 1 1 2 1 2 2 0 1 0 1 3 3 2 3 3 0 2 3\n",
      " 1 2 3 3 1 1 3 2 0 2 1 2 1 1 0 0 2 1 1 1 1 1 2 3 3 3 0 0 1 3 1 2 1 1 1 2 0\n",
      " 1 2 0 2 2 0 2 2 0 3 2 0 1 3 2 2 0 2 1 2 1 1 3 0 2 3 2 2 0 3 2 3 3 2 2 0 3\n",
      " 0 1 1 2 3 0 1 3 1 0 3 3 2 3 2 0 2 2 3 3 0 0 3 3 2 2 1 1 1 2 1 1 1 0 1 2 0\n",
      " 2 3 3 0 0 1 3 0 0 1 1 0 2 2 0 1 1 2 2 0 3 1 0 2 1 3 3 3 2 2]\n",
      "Actual labels:\n",
      "[0 0 3 1 3 0 0 0 3 0 3 1 2 0 2 3 1 2 0 0 1 2 2 3 3 1 1 3 1 0 1 1 1 1 1 2 0\n",
      " 1 2 3 3 0 0 1 2 0 2 1 3 2 2 1 2 1 3 1 2 0 0 2 0 0 0 0 1 2 3 2 3 3 0 3 3 2\n",
      " 1 1 2 3 0 0 0 2 2 1 1 1 2 0 2 0 2 3 0 0 2 1 0 2 0 0 2 0 1 2 1 0 2 3 2 1 3\n",
      " 0 3 1 2 3 2 1 3 3 1 0 1 1 3 2 3 3 3 0 2 0 0 1 0 1 2 3 0 2 1 0 0 0 1 2 3 3\n",
      " 3 1 1 1 3 0 2 3 1 2 0 1 3 1 3 3 0 0 1 1 3 1 3 3 3 0 0 0 3 2 2 1 2 2 0 1 0\n",
      " 0 1 3 3 2 1 1 1 2 2 3 3 0 0 1 3 2 3 2 0 0 2 1 0 2 2 2 3 3 3 2 3 2 3 3 2 3\n",
      " 2 0 1 3 0 3 0 0 1 3 0 2 0 2 2 3 1 3 2 1 1 2 1 2 2 0 0 0 1 3 3 2 3 3 0 2 3\n",
      " 1 2 3 3 1 1 3 2 0 2 1 2 1 1 0 0 2 1 1 1 1 1 0 3 3 3 0 0 1 3 1 2 1 1 1 2 0\n",
      " 1 2 0 2 2 0 2 2 0 3 2 0 1 3 2 2 0 0 1 2 1 1 3 0 2 3 0 2 0 0 2 3 0 2 2 0 3\n",
      " 0 1 1 2 3 0 1 3 1 0 3 3 2 3 2 0 2 2 3 3 0 0 3 3 2 2 1 1 1 2 1 1 1 0 1 2 0\n",
      " 2 3 0 0 0 1 3 0 0 1 1 0 2 2 0 1 1 2 2 1 3 1 0 2 1 3 3 3 2 2]\n",
      "Number of labels that are equal:\n",
      "380.0\n",
      "Accuracy: \n",
      "0.95\n",
      "VALIDATION\n",
      "Predicted labels:\n",
      "[3 1 1 3 1 3 1 2 3 2 2 3 1 2 0 2 3 1 2 3 1 2 3 1 2 2 2 0 2 1 1 2 0 2 2 2 0\n",
      " 1 0 3 3 1 3 2 1 3 3 1 3 1 2 1 3 2 3 1 3 3 0 0 1 2 0 1 3 0 0 2 2 3 1 3 3 2\n",
      " 0 3 2 3 1 2 0 2 3 0 1 0 2 3 0 2 2 3 3 0 0 2 1 1 2 3 0 2 2 0 2 0 2 0 3 2 2\n",
      " 0 1 2 1 0 0 1 3 2 1 0 0 2 1 1 1 3 2 1 0 1 0 3 3 2 1 2 1 2 2 0 1 2 1 0 3 1\n",
      " 0 0 1 1 3 1 0 3 2 1 0 3 2 2 1 0 0 3 1 2 2 2 3 0 0 2 1 1 2 1 3 0 2 1 2 1 2\n",
      " 0 2 2 0 3 2 0 2 2 3 2 0 0 2 2 1 3 1 2 0 1 1 0 2 3 3]\n",
      "Actual labels:\n",
      "[2 0 2 2 3 3 2 1 3 0 1 1 1 2 2 2 0 0 2 1 1 1 3 2 1 2 2 1 3 0 3 0 3 1 2 0 0\n",
      " 2 3 0 1 0 0 2 2 0 1 2 2 0 2 0 1 0 0 1 3 3 1 3 1 0 1 0 1 0 0 2 0 3 1 2 3 3\n",
      " 2 3 1 0 2 0 1 3 2 3 0 2 0 0 0 0 3 0 1 2 0 3 3 0 0 3 0 3 2 2 1 1 3 0 0 2 3\n",
      " 2 2 2 3 1 1 3 1 1 2 0 2 1 1 0 1 3 2 0 1 3 0 3 0 1 3 0 1 2 1 0 0 3 3 1 1 3\n",
      " 1 2 0 1 3 0 0 3 3 2 3 2 0 1 2 2 1 3 0 0 2 1 2 1 2 3 0 0 1 0 3 2 2 0 1 3 2\n",
      " 0 0 2 2 3 1 2 3 0 3 1 0 2 3 2 0 0 0 3 2 0 3 0 0 3 0]\n",
      "Number of labels that are equal:\n",
      "60.0\n",
      "Accuracy: \n",
      "0.15\n"
     ]
    }
   ],
   "source": [
    "# TRAINING\n",
    "print(\"TRAINING\")\n",
    "N = 400\n",
    "sampleX = X_train[0:N,:,:]\n",
    "sampleY = y_train_labels[0:N]\n",
    "predictedY = rnn.predict(sampleX)\n",
    "predictedLabels = np.argmax(predictedY, axis=1)\n",
    "sampleLabels = np.argmax(sampleY, axis=1)\n",
    "\n",
    "print(\"Predicted labels:\")\n",
    "print(predictedLabels)\n",
    "print(\"Actual labels:\")\n",
    "print(sampleLabels)\n",
    "\n",
    "num_equal = np.sum(1.0*np.equal(sampleLabels, predictedLabels))\n",
    "print(\"Number of labels that are equal:\")\n",
    "print(num_equal)\n",
    "print(\"Accuracy: \")\n",
    "print(num_equal/N)\n",
    "\n",
    "# VALIDATION\n",
    "print(\"VALIDATION\")\n",
    "N = 400\n",
    "sampleX = X_val[0:N,:,:]\n",
    "sampleY = y_val_labels[0:N]\n",
    "predictedY = rnn.predict(sampleX)\n",
    "predictedLabels = np.argmax(predictedY, axis=1)\n",
    "sampleLabels = np.argmax(sampleY, axis=1)\n",
    "\n",
    "print(\"Predicted labels:\")\n",
    "print(predictedLabels)\n",
    "print(\"Actual labels:\")\n",
    "print(sampleLabels)\n",
    "\n",
    "num_equal = np.sum(1.0*np.equal(sampleLabels, predictedLabels))\n",
    "print(\"Number of labels that are equal:\")\n",
    "print(num_equal)\n",
    "print(\"Accuracy: \")\n",
    "print(num_equal/N)\n",
    "\n"
   ]
  },
  {
   "cell_type": "markdown",
   "metadata": {},
   "source": [
    "## Classifying Data using a GRU Architecture"
   ]
  },
  {
   "cell_type": "code",
   "execution_count": 12,
   "metadata": {
    "scrolled": true
   },
   "outputs": [
    {
     "name": "stdout",
     "output_type": "stream",
     "text": [
      "Train on 1904 samples, validate on 211 samples\n",
      "Epoch 1/5\n",
      "1904/1904 [==============================] - 4s 2ms/step - loss: 0.6831 - acc: 0.6703 - val_loss: 0.6373 - val_acc: 0.6884\n",
      "Epoch 2/5\n",
      "1904/1904 [==============================] - 3s 2ms/step - loss: 0.4396 - acc: 0.8015 - val_loss: 0.6208 - val_acc: 0.7180\n",
      "Epoch 3/5\n",
      "1904/1904 [==============================] - 4s 2ms/step - loss: 0.3193 - acc: 0.8858 - val_loss: 0.6324 - val_acc: 0.7085\n",
      "Epoch 4/5\n",
      "1904/1904 [==============================] - 3s 2ms/step - loss: 0.2436 - acc: 0.9362 - val_loss: 0.6526 - val_acc: 0.7002\n",
      "Epoch 5/5\n",
      "1904/1904 [==============================] - 3s 2ms/step - loss: 0.1850 - acc: 0.9673 - val_loss: 0.6574 - val_acc: 0.7073\n",
      "Test loss: 0.6517621107887199\n",
      "Test accuracy: 0.6873589149985303\n"
     ]
    }
   ],
   "source": [
    "rnn = RNN(X_train, y_train_labels, X_val, y_val_labels, X_test, y_test_labels)\n",
    "rnn.train(RNN_architecture=GRU, activation=\"sigmoid\", \\\n",
    "              optimizer='adam', epochs=5, batch_size=64, dropout=0.1)\n",
    "test_loss, test_accuracy = rnn.evaluate()\n",
    "print('Test loss:', test_loss)\n",
    "print('Test accuracy:', test_accuracy)"
   ]
  },
  {
   "cell_type": "code",
   "execution_count": 13,
   "metadata": {},
   "outputs": [
    {
     "ename": "NameError",
     "evalue": "name 'person_train_valid' is not defined",
     "output_type": "error",
     "traceback": [
      "\u001b[0;31m---------------------------------------------------------------------------\u001b[0m",
      "\u001b[0;31mNameError\u001b[0m                                 Traceback (most recent call last)",
      "\u001b[0;32m<ipython-input-13-621a8090bdb9>\u001b[0m in \u001b[0;36m<module>\u001b[0;34m\u001b[0m\n\u001b[0;32m----> 1\u001b[0;31m \u001b[0mperson1_X_train\u001b[0m\u001b[0;34m,\u001b[0m \u001b[0mperson1_y_train\u001b[0m \u001b[0;34m=\u001b[0m \u001b[0mextract_person_data\u001b[0m\u001b[0;34m(\u001b[0m\u001b[0mX_train_val\u001b[0m\u001b[0;34m,\u001b[0m \u001b[0my_train_val\u001b[0m\u001b[0;34m,\u001b[0m \u001b[0mperson\u001b[0m\u001b[0;34m=\u001b[0m\u001b[0;36m1\u001b[0m\u001b[0;34m)\u001b[0m\u001b[0;34m\u001b[0m\u001b[0m\n\u001b[0m\u001b[1;32m      2\u001b[0m \u001b[0mperson2_X_test\u001b[0m\u001b[0;34m,\u001b[0m \u001b[0mperson2_y_test\u001b[0m \u001b[0;34m=\u001b[0m \u001b[0mextract_person_data\u001b[0m\u001b[0;34m(\u001b[0m\u001b[0mX_train_val\u001b[0m\u001b[0;34m,\u001b[0m \u001b[0my_train_val\u001b[0m\u001b[0;34m,\u001b[0m \u001b[0mperson\u001b[0m\u001b[0;34m=\u001b[0m\u001b[0;36m2\u001b[0m\u001b[0;34m)\u001b[0m\u001b[0;34m\u001b[0m\u001b[0m\n",
      "\u001b[0;32m~/Documents/CS239AS/Project/neural_nets/utils/utilities.py\u001b[0m in \u001b[0;36mextract_person_data\u001b[0;34m(X, y, person)\u001b[0m\n\u001b[1;32m      4\u001b[0m     \u001b[0mperson_X_data\u001b[0m \u001b[0;34m=\u001b[0m \u001b[0;34m[\u001b[0m\u001b[0;34m]\u001b[0m\u001b[0;34m\u001b[0m\u001b[0m\n\u001b[1;32m      5\u001b[0m     \u001b[0mperson_y_data\u001b[0m \u001b[0;34m=\u001b[0m \u001b[0;34m[\u001b[0m\u001b[0;34m]\u001b[0m\u001b[0;34m\u001b[0m\u001b[0m\n\u001b[0;32m----> 6\u001b[0;31m     \u001b[0;32mfor\u001b[0m \u001b[0mi\u001b[0m \u001b[0;32min\u001b[0m \u001b[0mrange\u001b[0m\u001b[0;34m(\u001b[0m\u001b[0mperson_train_valid\u001b[0m\u001b[0;34m.\u001b[0m\u001b[0mshape\u001b[0m\u001b[0;34m[\u001b[0m\u001b[0;36m0\u001b[0m\u001b[0;34m]\u001b[0m\u001b[0;34m)\u001b[0m\u001b[0;34m:\u001b[0m\u001b[0;34m\u001b[0m\u001b[0m\n\u001b[0m\u001b[1;32m      7\u001b[0m         \u001b[0;32mif\u001b[0m \u001b[0mperson_train_valid\u001b[0m\u001b[0;34m[\u001b[0m\u001b[0mi\u001b[0m\u001b[0;34m]\u001b[0m\u001b[0;34m[\u001b[0m\u001b[0;36m0\u001b[0m\u001b[0;34m]\u001b[0m \u001b[0;34m==\u001b[0m \u001b[0mperson\u001b[0m\u001b[0;34m:\u001b[0m\u001b[0;34m\u001b[0m\u001b[0m\n\u001b[1;32m      8\u001b[0m             \u001b[0mperson_X_data\u001b[0m\u001b[0;34m.\u001b[0m\u001b[0mappend\u001b[0m\u001b[0;34m(\u001b[0m\u001b[0mX\u001b[0m\u001b[0;34m[\u001b[0m\u001b[0mi\u001b[0m\u001b[0;34m]\u001b[0m\u001b[0;34m)\u001b[0m\u001b[0;34m\u001b[0m\u001b[0m\n",
      "\u001b[0;31mNameError\u001b[0m: name 'person_train_valid' is not defined"
     ]
    }
   ],
   "source": [
    "person1_X_train, person1_y_train = extract_person_data(X_train_val, y_train_val, person_train_val, person=1)\n",
    "person2_X_test, person2_y_test = extract_person_data(X_train_val, y_train_val, person_train_val, person=2)"
   ]
  },
  {
   "cell_type": "code",
   "execution_count": 66,
   "metadata": {},
   "outputs": [
    {
     "name": "stdout",
     "output_type": "stream",
     "text": [
      "Epoch 1/5\n",
      "236/236 [==============================] - 3s 12ms/step - loss: 0.6893 - acc: 0.5964\n",
      "Epoch 2/5\n",
      "236/236 [==============================] - 1s 5ms/step - loss: 0.4191 - acc: 0.8464\n",
      "Epoch 3/5\n",
      "236/236 [==============================] - 1s 5ms/step - loss: 0.3147 - acc: 0.9195\n",
      "Epoch 4/5\n",
      "236/236 [==============================] - 1s 5ms/step - loss: 0.2535 - acc: 0.9523\n",
      "Epoch 5/5\n",
      "236/236 [==============================] - 1s 5ms/step - loss: 0.2022 - acc: 0.9714\n",
      "Test loss: 0.6339652669631829\n",
      "Test accuracy: 0.6779661016949152\n"
     ]
    }
   ],
   "source": [
    "rnn = RNN(person1_X_train, one_hot_encode(person1_y_train), None, None, person2_X_test, one_hot_encode(person2_y_test))\n",
    "rnn.train(RNN_architecture=LSTM, activation=\"sigmoid\", \\\n",
    "              optimizer='adam', epochs=5, batch_size=10, dropout=0.3)\n",
    "test_loss, test_accuracy = rnn.evaluate()\n",
    "print('Test loss:', test_loss)\n",
    "print('Test accuracy:', test_accuracy)"
   ]
  },
  {
   "cell_type": "code",
   "execution_count": null,
   "metadata": {},
   "outputs": [],
   "source": []
  }
 ],
 "metadata": {
  "kernelspec": {
   "display_name": "Python 3",
   "language": "python",
   "name": "python3"
  },
  "language_info": {
   "codemirror_mode": {
    "name": "ipython",
    "version": 3
   },
   "file_extension": ".py",
   "mimetype": "text/x-python",
   "name": "python",
   "nbconvert_exporter": "python",
   "pygments_lexer": "ipython3",
   "version": "3.6.3"
  }
 },
 "nbformat": 4,
 "nbformat_minor": 2
}
