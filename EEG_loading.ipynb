{
 "cells": [
  {
   "cell_type": "markdown",
   "metadata": {},
   "source": [
    "# ECE 239 Final Project\n"
   ]
  },
  {
   "cell_type": "markdown",
   "metadata": {},
   "source": [
    "## Import libraries and data"
   ]
  },
  {
   "cell_type": "code",
   "execution_count": 23,
   "metadata": {},
   "outputs": [],
   "source": [
    "import numpy as np\n",
    "import tensorflow as tf\n",
    "from tensorflow import keras\n"
   ]
  },
  {
   "cell_type": "code",
   "execution_count": 24,
   "metadata": {},
   "outputs": [],
   "source": [
    "import numpy as np\n",
    "X_test = np.load(\"./data/X_test.npy\")\n",
    "y_test = np.load(\"./data/y_test.npy\")\n",
    "person_train_valid = np.load(\"./data/person_train_valid.npy\")\n",
    "X_train_valid = np.load(\"./data/X_train_valid.npy\")\n",
    "y_train_valid = np.load(\"./data/y_train_valid.npy\")\n",
    "person_test = np.load(\"./data/person_test.npy\")\n"
   ]
  },
  {
   "cell_type": "markdown",
   "metadata": {},
   "source": [
    "### Shape of data"
   ]
  },
  {
   "cell_type": "code",
   "execution_count": 25,
   "metadata": {},
   "outputs": [
    {
     "name": "stdout",
     "output_type": "stream",
     "text": [
      "Training/Valid data shape: (2115, 25, 1000)\n",
      "Test data shape: (443, 25, 1000)\n",
      "Training/Valid target shape: (2115,)\n",
      "Test target shape: (443,)\n",
      "Person train/valid shape: (2115, 1)\n",
      "Person test shape: (443, 1)\n"
     ]
    }
   ],
   "source": [
    "print ('Training/Valid data shape: {}'.format(X_train_valid.shape))\n",
    "print ('Test data shape: {}'.format(X_test.shape))\n",
    "print ('Training/Valid target shape: {}'.format(y_train_valid.shape))\n",
    "print ('Test target shape: {}'.format(y_test.shape))\n",
    "print ('Person train/valid shape: {}'.format(person_train_valid.shape))\n",
    "print ('Person test shape: {}'.format(person_test.shape))\n"
   ]
  },
  {
   "cell_type": "markdown",
   "metadata": {},
   "source": [
    "### Taking out EOG (last 3)"
   ]
  },
  {
   "cell_type": "code",
   "execution_count": 26,
   "metadata": {},
   "outputs": [
    {
     "name": "stdout",
     "output_type": "stream",
     "text": [
      "Training/Valid data shape: (2115, 22, 1000)\n",
      "Test data shape: (443, 22, 1000)\n"
     ]
    }
   ],
   "source": [
    "X_train_valid = X_train_valid[:,0:22,:]\n",
    "X_test = X_test[:,0:22,:]\n",
    "print ('Training/Valid data shape: {}'.format(X_train_valid.shape))\n",
    "print ('Test data shape: {}'.format(X_test.shape))"
   ]
  },
  {
   "cell_type": "markdown",
   "metadata": {},
   "source": [
    "## Separate train into train + validation"
   ]
  },
  {
   "cell_type": "code",
   "execution_count": 27,
   "metadata": {},
   "outputs": [
    {
     "name": "stdout",
     "output_type": "stream",
     "text": [
      "Training data shape: (1904, 22, 1000)\n",
      "Training target shape: (1904,)\n",
      "Validation data shape: (211, 22, 1000)\n",
      "Validation target shape: (211,)\n"
     ]
    }
   ],
   "source": [
    "#TODO: Check this\n",
    "percent_validation = 0.1\n",
    "num_training, EEGs, samples_per_example = X_train_valid.shape\n",
    "indices = np.arange(num_training)\n",
    "np.random.shuffle(indices)\n",
    "validation_indices = indices[:int(percent_validation*num_training)]\n",
    "training_indices = indices[int(percent_validation*num_training):]\n",
    "X_train = X_train_valid[training_indices,:,:]\n",
    "y_train = y_train_valid[training_indices]\n",
    "X_validation = X_train_valid[validation_indices,:,:]\n",
    "y_validation = y_train_valid[validation_indices]\n",
    "\n",
    "print ('Training data shape: {}'.format(X_train.shape))\n",
    "print ('Training target shape: {}'.format(y_train.shape))\n",
    "print ('Validation data shape: {}'.format(X_validation.shape))\n",
    "print ('Validation target shape: {}'.format(y_validation.shape))\n",
    "\n",
    "\n"
   ]
  },
  {
   "cell_type": "code",
   "execution_count": 28,
   "metadata": {},
   "outputs": [
    {
     "name": "stdout",
     "output_type": "stream",
     "text": [
      "770\n",
      "(211,)\n",
      "(443,)\n",
      "[0. 1. 0. 0.]\n",
      "(211, 4)\n",
      "(443, 4)\n"
     ]
    }
   ],
   "source": [
    "\n",
    "#Note y data is number, convert it to labels\n",
    "print (y_validation[33])\n",
    "print (y_validation.shape)\n",
    "print (y_test.shape)\n",
    "\n",
    "def convert_to_label(num):\n",
    "    return np.array([1.0*(num==769),  1.0*(num==770), 1.0*(num==771), 1.0*(num==772)])\n",
    "\n",
    "y_train_labels = np.array([convert_to_label(yi) for yi in y_train])\n",
    "y_validation_labels = np.array([convert_to_label(yi) for yi in y_validation])\n",
    "y_test_labels = np.array([convert_to_label(yi) for yi in y_test])\n",
    "\n",
    "print (y_validation_labels[33])\n",
    "print (y_validation_labels.shape)\n",
    "print (y_test_labels.shape)\n"
   ]
  },
  {
   "cell_type": "markdown",
   "metadata": {},
   "source": [
    "## Naive approach: without RNN"
   ]
  },
  {
   "cell_type": "code",
   "execution_count": 39,
   "metadata": {
    "scrolled": false
   },
   "outputs": [
    {
     "name": "stdout",
     "output_type": "stream",
     "text": [
      "Train on 1904 samples, validate on 211 samples\n",
      "Epoch 1/5\n",
      "1904/1904 [==============================] - 1s 591us/sample - loss: 1.4239 - acc: 0.2600 - val_loss: 1.4216 - val_acc: 0.2559\n",
      "Epoch 2/5\n",
      "1904/1904 [==============================] - 1s 300us/sample - loss: 1.3755 - acc: 0.3030 - val_loss: 1.4471 - val_acc: 0.2654\n",
      "Epoch 3/5\n",
      "1904/1904 [==============================] - 1s 299us/sample - loss: 1.3225 - acc: 0.3566 - val_loss: 1.4203 - val_acc: 0.3033\n",
      "Epoch 4/5\n",
      "1904/1904 [==============================] - 1s 348us/sample - loss: 1.2614 - acc: 0.3923 - val_loss: 1.4242 - val_acc: 0.2891\n",
      "Epoch 5/5\n",
      "1904/1904 [==============================] - 1s 357us/sample - loss: 1.1978 - acc: 0.4433 - val_loss: 1.5512 - val_acc: 0.3223\n",
      "443/443 [==============================] - 0s 248us/sample - loss: 1.5017 - acc: 0.3273\n",
      "Test loss: 1.5016825123780468\n",
      "Test accuracy: 0.32731378\n"
     ]
    }
   ],
   "source": [
    "#### test model\n",
    "model = keras.Sequential()\n",
    "\n",
    "\n",
    "model.add(keras.layers.Conv1D(3, 3, strides=2, padding='same', data_format='channels_last', use_bias=True, input_shape=(22,1000)))\n",
    "model.add(keras.layers.Activation('relu'))\n",
    "model.add(keras.layers.MaxPooling1D(pool_size=2, strides=None, padding='same', data_format='channels_last'))\n",
    "model.add(keras.layers.Activation('relu'))\n",
    "model.add(keras.layers.Conv1D(3, 3, strides=2, padding='same', data_format='channels_last', use_bias=True))\n",
    "model.add(keras.layers.Activation('relu'))\n",
    "model.add(keras.layers.MaxPooling1D(pool_size=2, strides=None, padding='same', data_format='channels_last'))\n",
    "model.add(keras.layers.Activation('relu'))\n",
    "model.add(keras.layers.Flatten())\n",
    "model.add(keras.layers.Dense(500))\n",
    "model.add(keras.layers.Activation('relu'))\n",
    "model.add(keras.layers.Dense(150))\n",
    "model.add(keras.layers.Activation('relu'))\n",
    "model.add(keras.layers.Dense(100))\n",
    "model.add(keras.layers.Activation('relu'))\n",
    "model.add(keras.layers.Dense(4))\n",
    "model.add(keras.layers.Activation('softmax'))\n",
    "\n",
    "model.compile(optimizer='adam', loss='categorical_crossentropy', metrics=['accuracy'])\n",
    "\n",
    "model.fit(X_train, y_train_labels, validation_data=(X_validation, y_validation_labels), epochs=5)\n",
    "\n",
    "scores = model.evaluate(X_test, y_test_labels, verbose=1)\n",
    "print('Test loss:', scores[0])\n",
    "print('Test accuracy:', scores[1])\n",
    "\n",
    "\n"
   ]
  },
  {
   "cell_type": "code",
   "execution_count": null,
   "metadata": {},
   "outputs": [],
   "source": []
  }
 ],
 "metadata": {
  "kernelspec": {
   "display_name": "Python 3",
   "language": "python",
   "name": "python3"
  },
  "language_info": {
   "codemirror_mode": {
    "name": "ipython",
    "version": 3
   },
   "file_extension": ".py",
   "mimetype": "text/x-python",
   "name": "python",
   "nbconvert_exporter": "python",
   "pygments_lexer": "ipython3",
   "version": "3.6.1"
  }
 },
 "nbformat": 4,
 "nbformat_minor": 2
}
