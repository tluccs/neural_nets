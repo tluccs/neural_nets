{
 "cells": [
  {
   "cell_type": "markdown",
   "metadata": {},
   "source": [
    "## ECE 239 Final Project\n",
    "\n",
    "In this project we explore various deep learning algorithms on the EEG dataset. \n"
   ]
  },
  {
   "cell_type": "code",
   "execution_count": 1,
   "metadata": {},
   "outputs": [
    {
     "name": "stderr",
     "output_type": "stream",
     "text": [
      "Using TensorFlow backend.\n"
     ]
    }
   ],
   "source": [
    "# Imports and setup\n",
    "\n",
    "import numpy as np\n",
    "import tensorflow as tf\n",
    "from tensorflow import keras\n",
    "from keras.layers import LSTM\n",
    "from keras.layers import GRU\n",
    "import matplotlib.pyplot as plt\n",
    "\n",
    "from utils.load_data import *\n",
    "from utils.utilities import *\n",
    "from models.cnn import CNN\n",
    "from models.rnn import RNN\n",
    "from models.autoencoder import Autoencoder\n",
    "\n",
    "\n",
    "%load_ext autoreload\n",
    "%autoreload 2"
   ]
  },
  {
   "cell_type": "code",
   "execution_count": 2,
   "metadata": {},
   "outputs": [
    {
     "name": "stdout",
     "output_type": "stream",
     "text": [
      "Training/Valid data shape: (2115, 22, 1000)\n",
      "Test data shape: (443, 22, 1000)\n",
      "Training/Valid target shape: (2115,)\n",
      "Test target shape: (443,)\n",
      "Person train/valid shape: (2115, 1)\n",
      "Person test shape: (443, 1)\n"
     ]
    }
   ],
   "source": [
    "# Loads data from the EEG dataset and removes all EOG data\n",
    "\n",
    "person_train_val, X_train_val, y_train_val, person_test, X_test, y_test = load_EEG_data()\n",
    "\n",
    "print ('Training/Valid data shape: {}'.format(X_train_val.shape))\n",
    "print ('Test data shape: {}'.format(X_test.shape))\n",
    "print ('Training/Valid target shape: {}'.format(y_train_val.shape))\n",
    "print ('Test target shape: {}'.format(y_test.shape))\n",
    "print ('Person train/valid shape: {}'.format(person_train_val.shape))\n",
    "print ('Person test shape: {}'.format(person_test.shape))"
   ]
  },
  {
   "cell_type": "markdown",
   "metadata": {},
   "source": [
    "### Split into train and validation datasets"
   ]
  },
  {
   "cell_type": "code",
   "execution_count": 3,
   "metadata": {},
   "outputs": [
    {
     "name": "stdout",
     "output_type": "stream",
     "text": [
      "Training data shape: (1904, 22, 1000)\n",
      "Training target shape: (1904,)\n",
      "Validation data shape: (211, 22, 1000)\n",
      "Validation target shape: (211,)\n"
     ]
    }
   ],
   "source": [
    "X_train, y_train, X_val, y_val = split_train_val(X_train_val, y_train_val, percent_validation=0.1)\n",
    "\n",
    "print ('Training data shape: {}'.format(X_train.shape))\n",
    "print ('Training target shape: {}'.format(y_train.shape))\n",
    "print ('Validation data shape: {}'.format(X_val.shape))\n",
    "print ('Validation target shape: {}'.format(y_val.shape))"
   ]
  },
  {
   "cell_type": "markdown",
   "metadata": {},
   "source": [
    "## One hot encoding for all labels"
   ]
  },
  {
   "cell_type": "code",
   "execution_count": 4,
   "metadata": {},
   "outputs": [
    {
     "name": "stdout",
     "output_type": "stream",
     "text": [
      "771\n",
      "(211,)\n",
      "(443,)\n",
      "[0. 0. 1. 0.]\n",
      "(211, 4)\n",
      "(443, 4)\n"
     ]
    }
   ],
   "source": [
    "print (y_val[33])\n",
    "print (y_val.shape)\n",
    "print (y_test.shape)\n",
    "\n",
    "y_train_labels = one_hot_encode(y_train)\n",
    "y_val_labels = one_hot_encode(y_val)\n",
    "y_test_labels = one_hot_encode(y_test)\n",
    "\n",
    "print (y_val_labels[33])\n",
    "print (y_val_labels.shape)\n",
    "print (y_test_labels.shape)\n"
   ]
  },
  {
   "cell_type": "markdown",
   "metadata": {},
   "source": [
    "## Classifying data using a CNN"
   ]
  },
  {
   "cell_type": "code",
   "execution_count": 5,
   "metadata": {
    "scrolled": false
   },
   "outputs": [
    {
     "name": "stdout",
     "output_type": "stream",
     "text": [
      "WARNING:tensorflow:From /Users/admin/Desktop/EE/239/venv/lib/python3.6/site-packages/tensorflow/python/ops/resource_variable_ops.py:435: colocate_with (from tensorflow.python.framework.ops) is deprecated and will be removed in a future version.\n",
      "Instructions for updating:\n",
      "Colocations handled automatically by placer.\n",
      "Train on 1904 samples, validate on 211 samples\n",
      "WARNING:tensorflow:From /Users/admin/Desktop/EE/239/venv/lib/python3.6/site-packages/tensorflow/python/ops/math_ops.py:3066: to_int32 (from tensorflow.python.ops.math_ops) is deprecated and will be removed in a future version.\n",
      "Instructions for updating:\n",
      "Use tf.cast instead.\n",
      "Epoch 1/5\n",
      "1904/1904 [==============================] - 1s 496us/sample - loss: 1.4269 - acc: 0.2773 - val_loss: 1.4025 - val_acc: 0.3081\n",
      "Epoch 2/5\n",
      "1904/1904 [==============================] - 1s 275us/sample - loss: 1.3654 - acc: 0.3120 - val_loss: 1.4398 - val_acc: 0.2986\n",
      "Epoch 3/5\n",
      "1904/1904 [==============================] - 1s 277us/sample - loss: 1.3483 - acc: 0.3419 - val_loss: 1.3986 - val_acc: 0.2844\n",
      "Epoch 4/5\n",
      "1904/1904 [==============================] - 1s 281us/sample - loss: 1.2981 - acc: 0.3792 - val_loss: 1.3908 - val_acc: 0.3412\n",
      "Epoch 5/5\n",
      "1904/1904 [==============================] - 1s 294us/sample - loss: 1.2598 - acc: 0.4107 - val_loss: 1.4112 - val_acc: 0.2844\n",
      "443/443 [==============================] - 0s 142us/sample - loss: 1.4326 - acc: 0.2799\n",
      "Test loss: 1.4325961619951924\n",
      "Test accuracy: 0.2799097\n"
     ]
    }
   ],
   "source": [
    "cnn = CNN(X_train, y_train_labels, X_val, y_val_labels, X_test, y_test_labels)\n",
    "cnn.train(stride=2, optimizer='adam', epochs=5)\n",
    "test_loss, test_accuracy = cnn.evaluate()\n",
    "print('Test loss:', test_loss)\n",
    "print('Test accuracy:', test_accuracy)"
   ]
  },
  {
   "cell_type": "markdown",
   "metadata": {
    "collapsed": true
   },
   "source": [
    "## Classifying data using an LSTM Architecture"
   ]
  },
  {
   "cell_type": "code",
   "execution_count": 6,
   "metadata": {},
   "outputs": [
    {
     "name": "stdout",
     "output_type": "stream",
     "text": [
      "WARNING:tensorflow:From /Users/admin/Desktop/EE/239/venv/lib/python3.6/site-packages/keras/backend/tensorflow_backend.py:3445: calling dropout (from tensorflow.python.ops.nn_ops) with keep_prob is deprecated and will be removed in a future version.\n",
      "Instructions for updating:\n",
      "Please use `rate` instead of `keep_prob`. Rate should be set to `rate = 1 - keep_prob`.\n",
      "Train on 1904 samples, validate on 211 samples\n",
      "Epoch 1/5\n",
      "1904/1904 [==============================] - 5s 2ms/step - loss: 1.4223 - acc: 0.2558 - val_loss: 1.4032 - val_acc: 0.2938\n",
      "Epoch 2/5\n",
      "1904/1904 [==============================] - 4s 2ms/step - loss: 1.1920 - acc: 0.5646 - val_loss: 1.4024 - val_acc: 0.2607\n",
      "Epoch 3/5\n",
      "1904/1904 [==============================] - 4s 2ms/step - loss: 1.0206 - acc: 0.7190 - val_loss: 1.4199 - val_acc: 0.2796\n",
      "Epoch 4/5\n",
      "1904/1904 [==============================] - 4s 2ms/step - loss: 0.8731 - acc: 0.7642 - val_loss: 1.4285 - val_acc: 0.3128\n",
      "Epoch 5/5\n",
      "1904/1904 [==============================] - 3s 2ms/step - loss: 0.7397 - acc: 0.8277 - val_loss: 1.4892 - val_acc: 0.3081\n",
      "Test loss: 1.478394570522868\n",
      "Test accuracy: 0.32279909868003553\n"
     ]
    },
    {
     "data": {
      "image/png": "[encoded data removed]",
      "text/plain": [
       "<Figure size 432x288 with 1 Axes>"
      ]
     },
     "metadata": {
      "needs_background": "light"
     },
     "output_type": "display_data"
    }
   ],
   "source": [
    "rnn = RNN(X_train, y_train_labels, X_val, y_val_labels, X_test, y_test_labels)\n",
    "rnn.train(RNN_architecture=LSTM, activation=\"sigmoid\", \\\n",
    "              optimizer='adam', epochs=5, batch_size=64, dropout=0.3)\n",
    "test_loss, test_accuracy = rnn.evaluate()\n",
    "print('Test loss:', test_loss)\n",
    "print('Test accuracy:', test_accuracy)\n",
    "\n",
    "\n",
    "rnn.plot()"
   ]
  },
  {
   "cell_type": "markdown",
   "metadata": {},
   "source": [
    "## Check Results"
   ]
  },
  {
   "cell_type": "code",
   "execution_count": 7,
   "metadata": {},
   "outputs": [
    {
     "name": "stdout",
     "output_type": "stream",
     "text": [
      "TRAINING\n",
      "Predicted labels:\n",
      "[3 1 1 1 3 1 2 0 2 1 1 0 1 3 1 3 2 0 0 0 2 2 2 0 2 2 3 1 3 1 3 3 3 3 3 3 3\n",
      " 0 2 1 1 0 1 0 1 3 3 0 1 3 0 3 1 3 0 1 2 3 3 2 3 0 0 3 0 3 3 0 3 2 1 3 0 0\n",
      " 1 0 1 3 3 0 2 2 0 3 1 3 3 3 0 3 3 2 2 2 3 3 3 2 3 2 2 2 2 2 2 0 3 1 0 1 2\n",
      " 2 1 1 3 1 2 3 3 2 1 1 1 0 2 3 3 3 1 2 3 1 0 3 0 1 0 0 3 0 2 3 1 0 1 0 0 2\n",
      " 0 1 1 3 2 2 0 3 0 1 2 1 3 2 0 3 0 2 2 3 0 1 2 2 3 0 1 0 0 1 2 0 2 0 3 2 2\n",
      " 2 0 3 3 0 0 2 3 0 2 1 0 2 1 3 1 2 0 2 3 2 0 2 1 1 1 0 2 1 3 1 3 1 2 1 3 2\n",
      " 2 2 1 2 0 2 3 2 2 1 0 1 3 0 3 3 0 2 3 3 2 1 0 3 3 3 2 3 2 2 3 1 3 1 2 2 3\n",
      " 1 0 0 2 0 3 0 0 1 0 2 0 1 3 1 3 1 2 1 3 3 3 2 1 0 0 1 3 2 2 1 0 0 0 0 1 2\n",
      " 3 1 3 1 3 2 3 0 2 2 3 0 1 0 3 1 2 0 1 1 2 1 1 3 3 3 1 1 0 0 0 0 0 2 0 0 2\n",
      " 1 3 0 1 3 3 2 3 2 2 0 1 1 1 0 1 3 2 0 0 0 0 1 0 3 2 2 0 2 3 1 0 3 3 0 1 0\n",
      " 2 2 3 3 1 1 3 1 0 1 1 2 1 3 1 2 1 0 2 3 0 1 1 2 2 0 0 2 0 3]\n",
      "Actual labels:\n",
      "[3 1 0 1 3 1 2 0 2 1 1 0 1 3 1 3 2 0 0 0 2 2 2 0 2 2 3 1 3 1 3 3 0 3 3 3 3\n",
      " 0 2 1 1 0 1 0 1 3 3 0 1 3 0 3 1 3 0 1 2 3 3 2 3 0 0 3 0 3 3 0 3 2 1 3 0 0\n",
      " 1 0 1 3 3 0 2 2 0 3 1 3 3 3 0 3 3 2 2 2 3 3 3 2 3 2 2 2 2 2 0 0 3 1 0 1 2\n",
      " 2 0 1 3 1 2 3 3 2 1 1 1 0 2 3 3 3 1 1 3 1 0 3 0 3 1 0 3 0 2 3 1 0 1 0 0 2\n",
      " 0 1 1 3 2 2 0 3 0 1 2 1 3 2 0 3 0 2 2 3 0 1 2 2 3 0 1 1 0 1 2 0 2 3 3 2 2\n",
      " 2 0 3 3 0 0 2 3 0 2 1 0 2 1 3 1 2 0 2 3 2 0 2 1 1 3 0 2 1 3 1 3 1 2 1 3 2\n",
      " 2 2 1 2 0 2 3 2 2 1 0 1 3 0 3 3 0 3 3 3 2 1 0 3 3 3 2 3 2 2 3 1 3 1 2 2 3\n",
      " 1 0 0 2 0 3 0 0 1 0 2 0 1 3 1 3 1 2 1 3 3 3 2 1 0 0 1 3 2 2 1 0 0 0 0 1 2\n",
      " 3 1 3 1 3 2 3 0 2 2 3 0 1 0 3 1 2 0 1 1 2 1 1 3 3 0 1 1 0 0 0 0 0 1 0 0 2\n",
      " 1 3 0 1 3 3 2 3 2 2 0 1 1 1 0 1 3 2 0 0 1 0 1 0 3 2 2 0 2 3 1 0 3 3 0 1 0\n",
      " 2 2 3 3 1 1 3 1 0 1 1 2 1 3 1 2 1 0 2 3 0 1 1 2 2 0 0 2 0 3]\n",
      "Number of labels that are equal:\n",
      "386.0\n",
      "Accuracy: \n",
      "0.965\n",
      "VALIDATION\n",
      "Predicted labels:\n",
      "[2 0 3 2 0 1 1 0 1 3 2 2 0 3 2 1 0 2 3 3 0 3 3 1 1 3 1 2 1 2 2 0 2 2 1 0 2\n",
      " 3 1 2 1 2 0 3 2 1 3 1 2 3 3 1 3 0 1 0 0 2 3 1 1 2 1 1 1 2 2 2 1 3 0 0 3 2\n",
      " 1 2 3 0 2 0 1 1 2 1 2 0 1 1 3 1 2 1 3 0 3 2 0 1 3 0 1 3 3 2 2 2 0 3 2 0 2\n",
      " 3 1 2 0 3 1 2 1 3 0 1 3 0 2 0 2 3 2 3 2 1 3 0 2 3 3 1 2 0 0 1 1 3 1 2 3 2\n",
      " 3 3 1 1 2 2 1 2 2 2 1 1 1 1 0 0 3 2 3 2 1 1 3 2 1 3 0 3 2 2 3 0 2 3 3 3 2\n",
      " 0 2 3 2 0 0 1 1 1 0 1 0 0 1 0 0 0 3 1 0 2 2 3 2 1 0]\n",
      "Actual labels:\n",
      "[1 1 1 1 2 2 1 0 0 1 0 3 1 2 2 0 0 0 3 1 2 1 1 2 2 3 3 0 1 0 2 2 3 2 1 0 3\n",
      " 2 1 2 0 2 1 2 2 0 3 2 1 2 2 0 3 1 1 3 3 1 1 1 3 1 2 1 1 3 3 3 0 1 1 0 1 0\n",
      " 0 0 2 0 1 2 2 3 2 1 0 0 2 3 0 2 0 3 3 1 1 1 0 1 3 0 3 3 2 1 0 0 2 1 0 0 2\n",
      " 2 1 1 1 1 1 0 1 1 0 2 0 2 0 0 2 2 0 0 1 3 3 3 2 2 3 1 2 0 0 3 1 1 3 1 0 2\n",
      " 1 0 1 3 1 2 0 1 0 0 1 1 2 2 3 3 0 3 3 0 1 3 1 2 1 0 1 1 3 3 1 2 1 3 3 3 3\n",
      " 2 0 1 1 2 1 2 2 0 1 0 2 0 2 0 1 3 1 1 2 2 3 3 0 2 2]\n",
      "Number of labels that are equal:\n",
      "65.0\n",
      "Accuracy: \n",
      "0.1625\n"
     ]
    }
   ],
   "source": [
    "# TRAINING\n",
    "print(\"TRAINING\")\n",
    "N = 400\n",
    "sampleX = X_train[0:N,:,:]\n",
    "sampleY = y_train_labels[0:N]\n",
    "predictedY = rnn.predict(sampleX)\n",
    "predictedLabels = np.argmax(predictedY, axis=1)\n",
    "sampleLabels = np.argmax(sampleY, axis=1)\n",
    "\n",
    "print(\"Predicted labels:\")\n",
    "print(predictedLabels)\n",
    "print(\"Actual labels:\")\n",
    "print(sampleLabels)\n",
    "\n",
    "num_equal = np.sum(1.0*np.equal(sampleLabels, predictedLabels))\n",
    "print(\"Number of labels that are equal:\")\n",
    "print(num_equal)\n",
    "print(\"Accuracy: \")\n",
    "print(num_equal/N)\n",
    "\n",
    "# VALIDATION\n",
    "print(\"VALIDATION\")\n",
    "N = 400\n",
    "sampleX = X_val[0:N,:,:]\n",
    "sampleY = y_val_labels[0:N]\n",
    "predictedY = rnn.predict(sampleX)\n",
    "predictedLabels = np.argmax(predictedY, axis=1)\n",
    "sampleLabels = np.argmax(sampleY, axis=1)\n",
    "\n",
    "print(\"Predicted labels:\")\n",
    "print(predictedLabels)\n",
    "print(\"Actual labels:\")\n",
    "print(sampleLabels)\n",
    "\n",
    "num_equal = np.sum(1.0*np.equal(sampleLabels, predictedLabels))\n",
    "print(\"Number of labels that are equal:\")\n",
    "print(num_equal)\n",
    "print(\"Accuracy: \")\n",
    "print(num_equal/N)\n",
    "\n"
   ]
  },
  {
   "cell_type": "markdown",
   "metadata": {},
   "source": [
    "## Classifying Data using a GRU Architecture"
   ]
  },
  {
   "cell_type": "code",
   "execution_count": 8,
   "metadata": {
    "scrolled": true
   },
   "outputs": [
    {
     "name": "stdout",
     "output_type": "stream",
     "text": [
      "Train on 1904 samples, validate on 211 samples\n",
      "Epoch 1/5\n",
      "1904/1904 [==============================] - 4s 2ms/step - loss: 1.4226 - acc: 0.2973 - val_loss: 1.3850 - val_acc: 0.2938\n",
      "Epoch 2/5\n",
      "1904/1904 [==============================] - 3s 1ms/step - loss: 1.1230 - acc: 0.5572 - val_loss: 1.4535 - val_acc: 0.2796\n",
      "Epoch 3/5\n",
      "1904/1904 [==============================] - 3s 2ms/step - loss: 0.8849 - acc: 0.6665 - val_loss: 1.4832 - val_acc: 0.3507\n",
      "Epoch 4/5\n",
      "1904/1904 [==============================] - 3s 1ms/step - loss: 0.6635 - acc: 0.8036 - val_loss: 1.5578 - val_acc: 0.3839\n",
      "Epoch 5/5\n",
      "1904/1904 [==============================] - 3s 1ms/step - loss: 0.4743 - acc: 0.8813 - val_loss: 1.5822 - val_acc: 0.3649\n",
      "Test loss: 1.6185275849047418\n",
      "Test accuracy: 0.336343114384141\n"
     ]
    }
   ],
   "source": [
    "rnn = RNN(X_train, y_train_labels, X_val, y_val_labels, X_test, y_test_labels)\n",
    "rnn.train(RNN_architecture=GRU, activation=\"sigmoid\", \\\n",
    "              optimizer='adam', epochs=5, batch_size=64, dropout=0.1)\n",
    "test_loss, test_accuracy = rnn.evaluate()\n",
    "print('Test loss:', test_loss)\n",
    "print('Test accuracy:', test_accuracy)"
   ]
  },
  {
   "cell_type": "code",
   "execution_count": 9,
   "metadata": {},
   "outputs": [],
   "source": [
    "person1_X_train, person1_y_train = extract_person_data(X_train_val, y_train_val, person_train_val, person=1)\n",
    "person2_X_test, person2_y_test = extract_person_data(X_train_val, y_train_val, person_train_val, person=2)"
   ]
  },
  {
   "cell_type": "code",
   "execution_count": 10,
   "metadata": {},
   "outputs": [
    {
     "name": "stdout",
     "output_type": "stream",
     "text": [
      "Epoch 1/5\n",
      "236/236 [==============================] - 3s 11ms/step - loss: 1.4474 - acc: 0.2373\n",
      "Epoch 2/5\n",
      "236/236 [==============================] - 1s 6ms/step - loss: 0.9805 - acc: 0.8008\n",
      "Epoch 3/5\n",
      "236/236 [==============================] - 1s 5ms/step - loss: 0.7643 - acc: 0.9195\n",
      "Epoch 4/5\n",
      "236/236 [==============================] - 1s 5ms/step - loss: 0.5826 - acc: 0.9661\n",
      "Epoch 5/5\n",
      "236/236 [==============================] - 1s 6ms/step - loss: 0.4142 - acc: 0.9958\n",
      "Test loss: 1.4540871119095107\n",
      "Test accuracy: 0.2923728816084943\n"
     ]
    }
   ],
   "source": [
    "rnn = RNN(person1_X_train, one_hot_encode(person1_y_train), None, None, person2_X_test, one_hot_encode(person2_y_test))\n",
    "rnn.train(RNN_architecture=LSTM, activation=\"sigmoid\", \\\n",
    "              optimizer='adam', epochs=5, batch_size=10, dropout=0.3)\n",
    "test_loss, test_accuracy = rnn.evaluate()\n",
    "print('Test loss:', test_loss)\n",
    "print('Test accuracy:', test_accuracy)"
   ]
  },
  {
   "cell_type": "markdown",
   "metadata": {},
   "source": [
    "## Autoencoder"
   ]
  },
  {
   "cell_type": "code",
   "execution_count": 90,
   "metadata": {},
   "outputs": [
    {
     "name": "stdout",
     "output_type": "stream",
     "text": [
      "Train on 1904 samples, validate on 211 samples\n",
      "Epoch 1/5\n",
      "1904/1904 [==============================] - 21s 11ms/sample - loss: -57405.0916 - acc: 5.2521e-04 - val_loss: -94936.6210 - val_acc: 0.0000e+00\n",
      "Epoch 2/5\n",
      "1904/1904 [==============================] - 16s 8ms/sample - loss: -135210.7690 - acc: 0.0000e+00 - val_loss: -132438.8789 - val_acc: 0.0000e+00\n",
      "Epoch 3/5\n",
      "1904/1904 [==============================] - 15s 8ms/sample - loss: -170645.6716 - acc: 5.2521e-04 - val_loss: -151157.5411 - val_acc: 0.0000e+00\n",
      "Epoch 4/5\n",
      "1904/1904 [==============================] - 15s 8ms/sample - loss: -190631.7945 - acc: 5.2521e-04 - val_loss: -162550.6210 - val_acc: 0.0000e+00\n",
      "Epoch 5/5\n",
      "1904/1904 [==============================] - 15s 8ms/sample - loss: -204367.9966 - acc: 5.2521e-04 - val_loss: -170880.3769 - val_acc: 0.0000e+00\n"
     ]
    }
   ],
   "source": [
    "\n",
    "autoencoder = Autoencoder(X_train, X_val, X_test)\n",
    "autoencoder.train()\n",
    "new_data = autoencoder.predict(X_train).reshape(X_train.shape)\n",
    "\n"
   ]
  },
  {
   "cell_type": "code",
   "execution_count": 91,
   "metadata": {},
   "outputs": [
    {
     "name": "stdout",
     "output_type": "stream",
     "text": [
      "Absolute Error in encoded data is roughly: 8.167755900244913\n",
      "[ 19.7265625    9.765625     8.93554688  11.27929688   3.7109375\n",
      "   5.12695312  -0.5859375   -3.56445312  -4.15039062  -6.29882812\n",
      "  -4.4921875    1.46484375   1.51367188   3.17382812  11.27929688\n",
      "  10.79101562   9.71679688   2.9296875    3.95507812   6.0546875\n",
      "   5.12695312  12.40234375  13.33007812  16.74804688  12.3046875\n",
      "  10.44921875   6.34765625   6.34765625   6.78710938   1.70898438\n",
      "  -2.78320312  -9.32617188 -11.57226562  -9.42382812 -10.00976562\n",
      "  -4.63867188 -10.7421875   -6.10351562 -10.20507812  -9.22851562\n",
      "  -4.4921875   -8.83789062  -1.953125    -1.31835938  -0.34179688\n",
      "   0.24414062  -3.22265625   2.00195312  -1.26953125  -2.00195312]\n",
      "[ 18.52399077  10.91693141   8.20223395  11.35454648   4.3484963\n",
      "   3.91183031   0.9287046   -5.03949438  -3.02496312  -6.86631494\n",
      "  -4.55225478   2.0869539    0.49384337   4.38068424  10.09239924\n",
      "  11.78858857   9.02743585   3.23852211   4.06303505   5.52318035\n",
      "   6.05595539  11.14620712  14.78750201  15.27015043  13.58820426\n",
      "   9.56649864   6.68704003   6.57838774   6.10434367   2.58944495\n",
      "  -3.5214438   -9.07208894 -11.0933386  -10.7124334   -8.04472966\n",
      "  -6.95540999  -8.51652795  -7.78797111  -9.40093064  -9.01727673\n",
      "  -5.60889925  -7.14716686  -3.74708135   0.08778252  -0.97282614\n",
      "  -0.0870948   -1.98668778   0.14655334   0.76369896  -3.72064831]\n"
     ]
    }
   ],
   "source": [
    "abs_err = np.abs(X_train - new_data)\n",
    "print(\"Absolute Error in encoded data is roughly: \" + str(np.mean(abs_err)))\n",
    "print(X_train[0,0,0:50])\n",
    "print(X_train_restored[0,0,0:50])\n"
   ]
  },
  {
   "cell_type": "markdown",
   "metadata": {},
   "source": [
    "## Training with autoencoder data"
   ]
  },
  {
   "cell_type": "code",
   "execution_count": 92,
   "metadata": {},
   "outputs": [
    {
     "name": "stdout",
     "output_type": "stream",
     "text": [
      "Train on 3808 samples, validate on 211 samples\n",
      "Epoch 1/5\n",
      "3808/3808 [==============================] - 28s 7ms/step - loss: 1.5420 - acc: 0.2595 - val_loss: 1.4182 - val_acc: 0.2749\n",
      "Epoch 2/5\n",
      "3808/3808 [==============================] - 20s 5ms/step - loss: 1.2213 - acc: 0.4257 - val_loss: 1.4527 - val_acc: 0.3128\n",
      "Epoch 3/5\n",
      "3808/3808 [==============================] - 21s 5ms/step - loss: 1.1098 - acc: 0.5011 - val_loss: 1.4345 - val_acc: 0.3507\n",
      "Epoch 4/5\n",
      "3808/3808 [==============================] - 21s 5ms/step - loss: 1.0227 - acc: 0.5567 - val_loss: 1.4259 - val_acc: 0.2701\n",
      "Epoch 5/5\n",
      "3808/3808 [==============================] - 21s 6ms/step - loss: 0.9604 - acc: 0.5945 - val_loss: 1.4870 - val_acc: 0.3175\n",
      "Test loss: 1.437474571824343\n",
      "Test accuracy: 0.36117381499933066\n"
     ]
    },
    {
     "data": {
      "image/png": "[encoded data removed]",
      "text/plain": [
       "<Figure size 432x288 with 1 Axes>"
      ]
     },
     "metadata": {
      "needs_background": "light"
     },
     "output_type": "display_data"
    }
   ],
   "source": [
    "X_train_total = np.concatenate((X_train, new_data), axis=0)\n",
    "y_train_total = np.concatenate((y_train_labels, y_train_labels), axis=0)\n",
    "\n",
    "rnn = RNN(X_train_total, y_train_total, X_val, y_val_labels, X_test, y_test_labels)\n",
    "rnn.train(RNN_architecture=LSTM, activation=\"softmax\", \\\n",
    "              optimizer='adam', epochs=5, batch_size=64, dropout=0.5, units=500)\n",
    "test_loss, test_accuracy = rnn.evaluate()\n",
    "print('Test loss:', test_loss)\n",
    "print('Test accuracy:', test_accuracy)\n",
    "\n",
    "\n",
    "rnn.plot()"
   ]
  },
  {
   "cell_type": "code",
   "execution_count": null,
   "metadata": {},
   "outputs": [],
   "source": []
  },
  {
   "cell_type": "code",
   "execution_count": null,
   "metadata": {},
   "outputs": [],
   "source": []
  }
 ],
 "metadata": {
  "kernelspec": {
   "display_name": "Python 3",
   "language": "python",
   "name": "python3"
  },
  "language_info": {
   "codemirror_mode": {
    "name": "ipython",
    "version": 3
   },
   "file_extension": ".py",
   "mimetype": "text/x-python",
   "name": "python",
   "nbconvert_exporter": "python",
   "pygments_lexer": "ipython3",
   "version": "3.6.3"
  }
 },
 "nbformat": 4,
 "nbformat_minor": 2
}
