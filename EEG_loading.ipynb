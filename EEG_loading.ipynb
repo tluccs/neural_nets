{
 "cells": [
  {
   "cell_type": "markdown",
   "metadata": {},
   "source": [
    "## ECE 239 Final Project\n",
    "\n",
    "In this project we explore various deep learning algorithms on the EEG dataset. \n"
   ]
  },
  {
   "cell_type": "code",
   "execution_count": 10,
   "metadata": {},
   "outputs": [
    {
     "name": "stdout",
     "output_type": "stream",
     "text": [
      "The autoreload extension is already loaded. To reload it, use:\n",
      "  %reload_ext autoreload\n"
     ]
    }
   ],
   "source": [
    "# Imports and setup\n",
    "\n",
    "import numpy as np\n",
    "import tensorflow as tf\n",
    "from tensorflow import keras\n",
    "from keras.layers import LSTM\n",
    "from keras.layers import GRU\n",
    "\n",
    "from utils.load_data import *\n",
    "from models.cnn import CNN\n",
    "from models.rnn import RNN\n",
    "\n",
    "%load_ext autoreload\n",
    "%autoreload 2"
   ]
  },
  {
   "cell_type": "code",
   "execution_count": 11,
   "metadata": {},
   "outputs": [
    {
     "name": "stdout",
     "output_type": "stream",
     "text": [
      "Training/Valid data shape: (2115, 22, 1000)\n",
      "Test data shape: (443, 22, 1000)\n",
      "Training/Valid target shape: (2115,)\n",
      "Test target shape: (443,)\n",
      "Person train/valid shape: (2115, 1)\n",
      "Person test shape: (443, 1)\n"
     ]
    }
   ],
   "source": [
    "# Loads data from the EEG dataset and removes all EOG data\n",
    "\n",
    "person_train_valid, X_train_valid, y_train_valid, person_test, X_test, y_test = load_EEG_data()\n",
    "\n",
    "print ('Training/Valid data shape: {}'.format(X_train_valid.shape))\n",
    "print ('Test data shape: {}'.format(X_test.shape))\n",
    "print ('Training/Valid target shape: {}'.format(y_train_valid.shape))\n",
    "print ('Test target shape: {}'.format(y_test.shape))\n",
    "print ('Person train/valid shape: {}'.format(person_train_valid.shape))\n",
    "print ('Person test shape: {}'.format(person_test.shape))"
   ]
  },
  {
   "cell_type": "markdown",
   "metadata": {},
   "source": [
    "## Split into train and validation datasets"
   ]
  },
  {
   "cell_type": "code",
   "execution_count": 12,
   "metadata": {},
   "outputs": [
    {
     "name": "stdout",
     "output_type": "stream",
     "text": [
      "Training data shape: (1904, 22, 1000)\n",
      "Training target shape: (1904,)\n",
      "Validation data shape: (211, 22, 1000)\n",
      "Validation target shape: (211,)\n"
     ]
    }
   ],
   "source": [
    "X_train, y_train, X_val, y_val = split_train_val(X_train_valid, y_train_valid, percent_validation=0.1)\n",
    "\n",
    "print ('Training data shape: {}'.format(X_train.shape))\n",
    "print ('Training target shape: {}'.format(y_train.shape))\n",
    "print ('Validation data shape: {}'.format(X_val.shape))\n",
    "print ('Validation target shape: {}'.format(y_val.shape))"
   ]
  },
  {
   "cell_type": "markdown",
   "metadata": {},
   "source": [
    "## One hot encoding for all labels"
   ]
  },
  {
   "cell_type": "code",
   "execution_count": 13,
   "metadata": {},
   "outputs": [
    {
     "name": "stdout",
     "output_type": "stream",
     "text": [
      "769\n",
      "(211,)\n",
      "(443,)\n",
      "[1. 0. 0. 0.]\n",
      "(211, 4)\n",
      "(443, 4)\n"
     ]
    }
   ],
   "source": [
    "print (y_val[33])\n",
    "print (y_val.shape)\n",
    "print (y_test.shape)\n",
    "\n",
    "def convert_to_label(num):\n",
    "    return np.array([1.0*(num==769),  1.0*(num==770), 1.0*(num==771), 1.0*(num==772)])\n",
    "\n",
    "y_train_labels = np.array([convert_to_label(yi) for yi in y_train])\n",
    "y_val_labels = np.array([convert_to_label(yi) for yi in y_val])\n",
    "y_test_labels = np.array([convert_to_label(yi) for yi in y_test])\n",
    "\n",
    "print (y_val_labels[33])\n",
    "print (y_val_labels.shape)\n",
    "print (y_test_labels.shape)\n"
   ]
  },
  {
   "cell_type": "markdown",
   "metadata": {},
   "source": [
    "## Classifying data using a CNN"
   ]
  },
  {
   "cell_type": "code",
   "execution_count": 14,
   "metadata": {
    "scrolled": false
   },
   "outputs": [
    {
     "name": "stdout",
     "output_type": "stream",
     "text": [
      "Train on 1904 samples, validate on 211 samples\n",
      "Epoch 1/5\n",
      "1904/1904 [==============================] - 1s 461us/sample - loss: 1.3909 - acc: 0.2563 - val_loss: 1.3930 - val_acc: 0.2464\n",
      "Epoch 2/5\n",
      "1904/1904 [==============================] - 0s 259us/sample - loss: 1.3743 - acc: 0.2826 - val_loss: 1.3978 - val_acc: 0.2607\n",
      "Epoch 3/5\n",
      "1904/1904 [==============================] - 0s 251us/sample - loss: 1.3735 - acc: 0.2899 - val_loss: 1.3885 - val_acc: 0.2559\n",
      "Epoch 4/5\n",
      "1904/1904 [==============================] - 0s 218us/sample - loss: 1.3632 - acc: 0.2946 - val_loss: 1.4113 - val_acc: 0.2796\n",
      "Epoch 5/5\n",
      "1904/1904 [==============================] - 0s 258us/sample - loss: 1.3606 - acc: 0.3062 - val_loss: 1.3868 - val_acc: 0.2654\n",
      "443/443 [==============================] - 0s 125us/sample - loss: 1.3999 - acc: 0.2257\n",
      "Test loss: 1.399915742551231\n",
      "Test accuracy: 0.22573364\n"
     ]
    }
   ],
   "source": [
    "cnn = CNN(X_train, y_train_labels, X_val, y_val_labels, X_test, y_test_labels)\n",
    "cnn.train(stride=2, optimizer='adam', epochs=5)\n",
    "test_loss, test_accuracy = cnn.evaluate()\n",
    "print('Test loss:', test_loss)\n",
    "print('Test accuracy:', test_accuracy)"
   ]
  },
  {
   "cell_type": "markdown",
   "metadata": {
    "collapsed": true
   },
   "source": [
    "## Classifying data using an LSTM Architecture"
   ]
  },
  {
   "cell_type": "code",
   "execution_count": 15,
   "metadata": {},
   "outputs": [
    {
     "name": "stdout",
     "output_type": "stream",
     "text": [
      "Train on 1904 samples, validate on 211 samples\n",
      "Epoch 1/5\n",
      "1904/1904 [==============================] - 5s 3ms/step - loss: 0.6580 - acc: 0.6404 - val_loss: 0.6048 - val_acc: 0.7204\n",
      "Epoch 2/5\n",
      "1904/1904 [==============================] - 4s 2ms/step - loss: 0.4972 - acc: 0.7732 - val_loss: 0.5967 - val_acc: 0.7133\n",
      "Epoch 3/5\n",
      "1904/1904 [==============================] - 5s 2ms/step - loss: 0.4127 - acc: 0.8296 - val_loss: 0.5863 - val_acc: 0.7263\n",
      "Epoch 4/5\n",
      "1904/1904 [==============================] - 4s 2ms/step - loss: 0.3525 - acc: 0.8716 - val_loss: 0.5839 - val_acc: 0.7263\n",
      "Epoch 5/5\n",
      "1904/1904 [==============================] - 4s 2ms/step - loss: 0.3030 - acc: 0.9057 - val_loss: 0.5923 - val_acc: 0.7227\n",
      "Test loss: 0.6018243767068833\n",
      "Test accuracy: 0.7104966153409626\n"
     ]
    },
    {
     "data": {
      "image/png": "[encoded data removed]",
      "text/plain": [
       "<Figure size 432x288 with 1 Axes>"
      ]
     },
     "metadata": {
      "needs_background": "light"
     },
     "output_type": "display_data"
    }
   ],
   "source": [
    "rnn = RNN(X_train, y_train_labels, X_val, y_val_labels, X_test, y_test_labels)\n",
    "rnn.train(RNN_architecture=LSTM, activation=\"sigmoid\", \\\n",
    "              optimizer='adam', epochs=5, batch_size=64, dropout=0.3)\n",
    "test_loss, test_accuracy = rnn.evaluate()\n",
    "print('Test loss:', test_loss)\n",
    "print('Test accuracy:', test_accuracy)\n",
    "rnn.plot()"
   ]
  },
  {
   "cell_type": "markdown",
   "metadata": {},
   "source": [
    "## Classifying Data using a GRU Architecture"
   ]
  },
  {
   "cell_type": "code",
   "execution_count": 14,
   "metadata": {},
   "outputs": [
    {
     "name": "stdout",
     "output_type": "stream",
     "text": [
      "Train on 1904 samples, validate on 211 samples\n",
      "Epoch 1/5\n",
      "1904/1904 [==============================] - 5s 2ms/step - loss: 0.6889 - acc: 0.6624 - val_loss: 0.6464 - val_acc: 0.6919\n",
      "Epoch 2/5\n",
      "1904/1904 [==============================] - 4s 2ms/step - loss: 0.4274 - acc: 0.8167 - val_loss: 0.6387 - val_acc: 0.7062\n",
      "Epoch 3/5\n",
      "1904/1904 [==============================] - 4s 2ms/step - loss: 0.3080 - acc: 0.8964 - val_loss: 0.6367 - val_acc: 0.7097\n",
      "Epoch 4/5\n",
      "1904/1904 [==============================] - 4s 2ms/step - loss: 0.2266 - acc: 0.9442 - val_loss: 0.6463 - val_acc: 0.7026\n",
      "Epoch 5/5\n",
      "1904/1904 [==============================] - 4s 2ms/step - loss: 0.1708 - acc: 0.9730 - val_loss: 0.6702 - val_acc: 0.7097\n",
      "Test loss: 0.6635286232149628\n",
      "Test accuracy: 0.6963882631964932\n"
     ]
    }
   ],
   "source": [
    "rnn = RNN(X_train, y_train_labels, X_val, y_val_labels, X_test, y_test_labels)\n",
    "rnn.train(RNN_architecture=GRU, activation=\"sigmoid\", \\\n",
    "              optimizer='adam', epochs=5, batch_size=64, dropout=0.1)\n",
    "test_loss, test_accuracy = rnn.evaluate()\n",
    "print('Test loss:', test_loss)\n",
    "print('Test accuracy:', test_accuracy)"
   ]
  },
  {
   "cell_type": "code",
   "execution_count": null,
   "metadata": {},
   "outputs": [],
   "source": []
  }
 ],
 "metadata": {
  "kernelspec": {
   "display_name": "Python 3",
   "language": "python",
   "name": "python3"
  },
  "language_info": {
   "codemirror_mode": {
    "name": "ipython",
    "version": 3
   },
   "file_extension": ".py",
   "mimetype": "text/x-python",
   "name": "python",
   "nbconvert_exporter": "python",
   "pygments_lexer": "ipython3",
   "version": "3.6.1"
  }
 },
 "nbformat": 4,
 "nbformat_minor": 2
}
